{
 "cells": [
  {
   "cell_type": "markdown",
   "metadata": {},
   "source": [
    "# Importing Libraries"
   ]
  },
  {
   "cell_type": "code",
   "execution_count": 101,
   "metadata": {},
   "outputs": [],
   "source": [
    "import numpy as np\n",
    "import pandas as pd\n",
    "import matplotlib.pyplot as plt\n",
    "import seaborn as sns\n",
    "\n",
    "from sklearn.model_selection import train_test_split,GridSearchCV\n",
    "\n",
    "from sklearn.ensemble import GradientBoostingClassifier\n",
    "\n",
    "from sklearn.metrics import confusion_matrix, roc_curve, roc_auc_score\n",
    "\n",
    "import pickle\n",
    "\n",
    "from operator import itemgetter"
   ]
  },
  {
   "cell_type": "markdown",
   "metadata": {},
   "source": [
    "======================================================================================================================="
   ]
  },
  {
   "cell_type": "markdown",
   "metadata": {},
   "source": [
    "# Importing & Reading Data"
   ]
  },
  {
   "cell_type": "code",
   "execution_count": 2,
   "metadata": {},
   "outputs": [],
   "source": [
    "df1 = pd.read_csv('Matches_Results.csv')"
   ]
  },
  {
   "cell_type": "code",
   "execution_count": 3,
   "metadata": {},
   "outputs": [
    {
     "data": {
      "text/html": [
       "<div>\n",
       "<style scoped>\n",
       "    .dataframe tbody tr th:only-of-type {\n",
       "        vertical-align: middle;\n",
       "    }\n",
       "\n",
       "    .dataframe tbody tr th {\n",
       "        vertical-align: top;\n",
       "    }\n",
       "\n",
       "    .dataframe thead th {\n",
       "        text-align: right;\n",
       "    }\n",
       "</style>\n",
       "<table border=\"1\" class=\"dataframe\">\n",
       "  <thead>\n",
       "    <tr style=\"text-align: right;\">\n",
       "      <th></th>\n",
       "      <th>date</th>\n",
       "      <th>home_team</th>\n",
       "      <th>away_team</th>\n",
       "      <th>home_score</th>\n",
       "      <th>away_score</th>\n",
       "      <th>tournament</th>\n",
       "      <th>city</th>\n",
       "      <th>country</th>\n",
       "      <th>neutral</th>\n",
       "    </tr>\n",
       "  </thead>\n",
       "  <tbody>\n",
       "    <tr>\n",
       "      <th>0</th>\n",
       "      <td>1872-11-30</td>\n",
       "      <td>Scotland</td>\n",
       "      <td>England</td>\n",
       "      <td>0</td>\n",
       "      <td>0</td>\n",
       "      <td>Friendly</td>\n",
       "      <td>Glasgow</td>\n",
       "      <td>Scotland</td>\n",
       "      <td>False</td>\n",
       "    </tr>\n",
       "    <tr>\n",
       "      <th>1</th>\n",
       "      <td>1873-03-08</td>\n",
       "      <td>England</td>\n",
       "      <td>Scotland</td>\n",
       "      <td>4</td>\n",
       "      <td>2</td>\n",
       "      <td>Friendly</td>\n",
       "      <td>London</td>\n",
       "      <td>England</td>\n",
       "      <td>False</td>\n",
       "    </tr>\n",
       "    <tr>\n",
       "      <th>2</th>\n",
       "      <td>1874-03-07</td>\n",
       "      <td>Scotland</td>\n",
       "      <td>England</td>\n",
       "      <td>2</td>\n",
       "      <td>1</td>\n",
       "      <td>Friendly</td>\n",
       "      <td>Glasgow</td>\n",
       "      <td>Scotland</td>\n",
       "      <td>False</td>\n",
       "    </tr>\n",
       "    <tr>\n",
       "      <th>3</th>\n",
       "      <td>1875-03-06</td>\n",
       "      <td>England</td>\n",
       "      <td>Scotland</td>\n",
       "      <td>2</td>\n",
       "      <td>2</td>\n",
       "      <td>Friendly</td>\n",
       "      <td>London</td>\n",
       "      <td>England</td>\n",
       "      <td>False</td>\n",
       "    </tr>\n",
       "    <tr>\n",
       "      <th>4</th>\n",
       "      <td>1876-03-04</td>\n",
       "      <td>Scotland</td>\n",
       "      <td>England</td>\n",
       "      <td>3</td>\n",
       "      <td>0</td>\n",
       "      <td>Friendly</td>\n",
       "      <td>Glasgow</td>\n",
       "      <td>Scotland</td>\n",
       "      <td>False</td>\n",
       "    </tr>\n",
       "  </tbody>\n",
       "</table>\n",
       "</div>"
      ],
      "text/plain": [
       "         date home_team away_team  home_score  away_score tournament     city  \\\n",
       "0  1872-11-30  Scotland   England           0           0   Friendly  Glasgow   \n",
       "1  1873-03-08   England  Scotland           4           2   Friendly   London   \n",
       "2  1874-03-07  Scotland   England           2           1   Friendly  Glasgow   \n",
       "3  1875-03-06   England  Scotland           2           2   Friendly   London   \n",
       "4  1876-03-04  Scotland   England           3           0   Friendly  Glasgow   \n",
       "\n",
       "    country  neutral  \n",
       "0  Scotland    False  \n",
       "1   England    False  \n",
       "2  Scotland    False  \n",
       "3   England    False  \n",
       "4  Scotland    False  "
      ]
     },
     "execution_count": 3,
     "metadata": {},
     "output_type": "execute_result"
    }
   ],
   "source": [
    "df1.head()"
   ]
  },
  {
   "cell_type": "code",
   "execution_count": 4,
   "metadata": {},
   "outputs": [],
   "source": [
    "df2 = pd.read_csv('Fifa Ranking.csv')"
   ]
  },
  {
   "cell_type": "code",
   "execution_count": 5,
   "metadata": {},
   "outputs": [
    {
     "data": {
      "text/html": [
       "<div>\n",
       "<style scoped>\n",
       "    .dataframe tbody tr th:only-of-type {\n",
       "        vertical-align: middle;\n",
       "    }\n",
       "\n",
       "    .dataframe tbody tr th {\n",
       "        vertical-align: top;\n",
       "    }\n",
       "\n",
       "    .dataframe thead th {\n",
       "        text-align: right;\n",
       "    }\n",
       "</style>\n",
       "<table border=\"1\" class=\"dataframe\">\n",
       "  <thead>\n",
       "    <tr style=\"text-align: right;\">\n",
       "      <th></th>\n",
       "      <th>rank</th>\n",
       "      <th>country_full</th>\n",
       "      <th>country_abrv</th>\n",
       "      <th>total_points</th>\n",
       "      <th>previous_points</th>\n",
       "      <th>rank_change</th>\n",
       "      <th>confederation</th>\n",
       "      <th>rank_date</th>\n",
       "    </tr>\n",
       "  </thead>\n",
       "  <tbody>\n",
       "    <tr>\n",
       "      <th>0</th>\n",
       "      <td>1</td>\n",
       "      <td>Germany</td>\n",
       "      <td>GER</td>\n",
       "      <td>57.0</td>\n",
       "      <td>0.0</td>\n",
       "      <td>0</td>\n",
       "      <td>UEFA</td>\n",
       "      <td>1992-12-31</td>\n",
       "    </tr>\n",
       "    <tr>\n",
       "      <th>1</th>\n",
       "      <td>96</td>\n",
       "      <td>Syria</td>\n",
       "      <td>SYR</td>\n",
       "      <td>11.0</td>\n",
       "      <td>0.0</td>\n",
       "      <td>0</td>\n",
       "      <td>AFC</td>\n",
       "      <td>1992-12-31</td>\n",
       "    </tr>\n",
       "    <tr>\n",
       "      <th>2</th>\n",
       "      <td>97</td>\n",
       "      <td>Burkina Faso</td>\n",
       "      <td>BFA</td>\n",
       "      <td>11.0</td>\n",
       "      <td>0.0</td>\n",
       "      <td>0</td>\n",
       "      <td>CAF</td>\n",
       "      <td>1992-12-31</td>\n",
       "    </tr>\n",
       "    <tr>\n",
       "      <th>3</th>\n",
       "      <td>99</td>\n",
       "      <td>Latvia</td>\n",
       "      <td>LVA</td>\n",
       "      <td>10.0</td>\n",
       "      <td>0.0</td>\n",
       "      <td>0</td>\n",
       "      <td>UEFA</td>\n",
       "      <td>1992-12-31</td>\n",
       "    </tr>\n",
       "    <tr>\n",
       "      <th>4</th>\n",
       "      <td>100</td>\n",
       "      <td>Burundi</td>\n",
       "      <td>BDI</td>\n",
       "      <td>10.0</td>\n",
       "      <td>0.0</td>\n",
       "      <td>0</td>\n",
       "      <td>CAF</td>\n",
       "      <td>1992-12-31</td>\n",
       "    </tr>\n",
       "  </tbody>\n",
       "</table>\n",
       "</div>"
      ],
      "text/plain": [
       "   rank  country_full country_abrv  total_points  previous_points  \\\n",
       "0     1       Germany          GER          57.0              0.0   \n",
       "1    96         Syria          SYR          11.0              0.0   \n",
       "2    97  Burkina Faso          BFA          11.0              0.0   \n",
       "3    99        Latvia          LVA          10.0              0.0   \n",
       "4   100       Burundi          BDI          10.0              0.0   \n",
       "\n",
       "   rank_change confederation   rank_date  \n",
       "0            0          UEFA  1992-12-31  \n",
       "1            0           AFC  1992-12-31  \n",
       "2            0           CAF  1992-12-31  \n",
       "3            0          UEFA  1992-12-31  \n",
       "4            0           CAF  1992-12-31  "
      ]
     },
     "execution_count": 5,
     "metadata": {},
     "output_type": "execute_result"
    }
   ],
   "source": [
    "df2.head()"
   ]
  },
  {
   "cell_type": "code",
   "execution_count": 6,
   "metadata": {},
   "outputs": [
    {
     "data": {
      "text/plain": [
       "(44158, 9)"
      ]
     },
     "execution_count": 6,
     "metadata": {},
     "output_type": "execute_result"
    }
   ],
   "source": [
    "df1.shape"
   ]
  },
  {
   "cell_type": "code",
   "execution_count": 7,
   "metadata": {},
   "outputs": [
    {
     "data": {
      "text/plain": [
       "Index(['date', 'home_team', 'away_team', 'home_score', 'away_score',\n",
       "       'tournament', 'city', 'country', 'neutral'],\n",
       "      dtype='object')"
      ]
     },
     "execution_count": 7,
     "metadata": {},
     "output_type": "execute_result"
    }
   ],
   "source": [
    "df1.columns"
   ]
  },
  {
   "cell_type": "code",
   "execution_count": 8,
   "metadata": {},
   "outputs": [
    {
     "data": {
      "text/plain": [
       "(63916, 8)"
      ]
     },
     "execution_count": 8,
     "metadata": {},
     "output_type": "execute_result"
    }
   ],
   "source": [
    "df2.shape"
   ]
  },
  {
   "cell_type": "code",
   "execution_count": 9,
   "metadata": {},
   "outputs": [
    {
     "data": {
      "text/plain": [
       "Index(['rank', 'country_full', 'country_abrv', 'total_points',\n",
       "       'previous_points', 'rank_change', 'confederation', 'rank_date'],\n",
       "      dtype='object')"
      ]
     },
     "execution_count": 9,
     "metadata": {},
     "output_type": "execute_result"
    }
   ],
   "source": [
    "df2.columns"
   ]
  },
  {
   "cell_type": "code",
   "execution_count": 10,
   "metadata": {},
   "outputs": [
    {
     "data": {
      "text/plain": [
       "date          0\n",
       "home_team     0\n",
       "away_team     0\n",
       "home_score    0\n",
       "away_score    0\n",
       "tournament    0\n",
       "city          0\n",
       "country       0\n",
       "neutral       0\n",
       "dtype: int64"
      ]
     },
     "execution_count": 10,
     "metadata": {},
     "output_type": "execute_result"
    }
   ],
   "source": [
    "df1.isna().sum()"
   ]
  },
  {
   "cell_type": "code",
   "execution_count": 11,
   "metadata": {},
   "outputs": [
    {
     "data": {
      "text/plain": [
       "rank               0\n",
       "country_full       0\n",
       "country_abrv       0\n",
       "total_points       0\n",
       "previous_points    0\n",
       "rank_change        0\n",
       "confederation      0\n",
       "rank_date          0\n",
       "dtype: int64"
      ]
     },
     "execution_count": 11,
     "metadata": {},
     "output_type": "execute_result"
    }
   ],
   "source": [
    "df2.isna().sum()"
   ]
  },
  {
   "cell_type": "code",
   "execution_count": 12,
   "metadata": {},
   "outputs": [
    {
     "name": "stdout",
     "output_type": "stream",
     "text": [
      "<class 'pandas.core.frame.DataFrame'>\n",
      "RangeIndex: 44158 entries, 0 to 44157\n",
      "Data columns (total 9 columns):\n",
      " #   Column      Non-Null Count  Dtype \n",
      "---  ------      --------------  ----- \n",
      " 0   date        44158 non-null  object\n",
      " 1   home_team   44158 non-null  object\n",
      " 2   away_team   44158 non-null  object\n",
      " 3   home_score  44158 non-null  int64 \n",
      " 4   away_score  44158 non-null  int64 \n",
      " 5   tournament  44158 non-null  object\n",
      " 6   city        44158 non-null  object\n",
      " 7   country     44158 non-null  object\n",
      " 8   neutral     44158 non-null  bool  \n",
      "dtypes: bool(1), int64(2), object(6)\n",
      "memory usage: 2.7+ MB\n"
     ]
    }
   ],
   "source": [
    "df1.info()"
   ]
  },
  {
   "cell_type": "code",
   "execution_count": 13,
   "metadata": {},
   "outputs": [
    {
     "name": "stdout",
     "output_type": "stream",
     "text": [
      "<class 'pandas.core.frame.DataFrame'>\n",
      "RangeIndex: 63916 entries, 0 to 63915\n",
      "Data columns (total 8 columns):\n",
      " #   Column           Non-Null Count  Dtype  \n",
      "---  ------           --------------  -----  \n",
      " 0   rank             63916 non-null  int64  \n",
      " 1   country_full     63916 non-null  object \n",
      " 2   country_abrv     63916 non-null  object \n",
      " 3   total_points     63916 non-null  float64\n",
      " 4   previous_points  63916 non-null  float64\n",
      " 5   rank_change      63916 non-null  int64  \n",
      " 6   confederation    63916 non-null  object \n",
      " 7   rank_date        63916 non-null  object \n",
      "dtypes: float64(2), int64(2), object(4)\n",
      "memory usage: 3.9+ MB\n"
     ]
    }
   ],
   "source": [
    "df2.info()"
   ]
  },
  {
   "cell_type": "markdown",
   "metadata": {},
   "source": [
    "======================================================================================================================"
   ]
  },
  {
   "cell_type": "markdown",
   "metadata": {},
   "source": [
    "# Data Wrangling"
   ]
  },
  {
   "cell_type": "code",
   "execution_count": 14,
   "metadata": {},
   "outputs": [],
   "source": [
    "df1[\"date\"] = pd.to_datetime(df1[\"date\"])\n",
    "df1 = df1[(df1[\"date\"] >= \"2018-8-1\")].reset_index(drop=True)\n",
    "df_Matches = df1"
   ]
  },
  {
   "cell_type": "code",
   "execution_count": 15,
   "metadata": {},
   "outputs": [],
   "source": [
    "df2[\"rank_date\"] = pd.to_datetime(df2[\"rank_date\"]) \n",
    "df2 = df2[(df2[\"rank_date\"] >= \"2018-8-1\")].reset_index(drop=True)\n",
    "df2[\"country_full\"] = df2[\"country_full\"].str.replace(\"IR Iran\", \"Iran\").str.replace(\"Korea Republic\", \"South Korea\").str.replace(\"USA\", \"United States\")\n",
    "df2 = df2.set_index(['rank_date']).groupby(['country_full'], group_keys=False).resample('D').first().fillna(method='ffill').reset_index()"
   ]
  },
  {
   "cell_type": "code",
   "execution_count": 16,
   "metadata": {},
   "outputs": [],
   "source": [
    "Main_DF = df_Matches.merge(df2[[\"country_full\", \"total_points\", \"previous_points\", \"rank\", \"rank_change\", \"rank_date\"]], left_on=[\"date\", \"home_team\"], right_on=[\"rank_date\", \"country_full\"]).drop([\"rank_date\", \"country_full\"], axis=1)\n",
    "Main_DF = Main_DF.merge(df2[[\"country_full\", \"total_points\", \"previous_points\", \"rank\", \"rank_change\", \"rank_date\"]], left_on=[\"date\", \"away_team\"], right_on=[\"rank_date\", \"country_full\"], suffixes=(\"_home\", \"_away\")).drop([\"rank_date\", \"country_full\"], axis=1)"
   ]
  },
  {
   "cell_type": "markdown",
   "metadata": {},
   "source": [
    "========================================================================================================================="
   ]
  },
  {
   "cell_type": "markdown",
   "metadata": {},
   "source": [
    "# Last Look to our data "
   ]
  },
  {
   "cell_type": "code",
   "execution_count": 17,
   "metadata": {},
   "outputs": [
    {
     "data": {
      "text/html": [
       "<div>\n",
       "<style scoped>\n",
       "    .dataframe tbody tr th:only-of-type {\n",
       "        vertical-align: middle;\n",
       "    }\n",
       "\n",
       "    .dataframe tbody tr th {\n",
       "        vertical-align: top;\n",
       "    }\n",
       "\n",
       "    .dataframe thead th {\n",
       "        text-align: right;\n",
       "    }\n",
       "</style>\n",
       "<table border=\"1\" class=\"dataframe\">\n",
       "  <thead>\n",
       "    <tr style=\"text-align: right;\">\n",
       "      <th></th>\n",
       "      <th>date</th>\n",
       "      <th>home_team</th>\n",
       "      <th>away_team</th>\n",
       "      <th>home_score</th>\n",
       "      <th>away_score</th>\n",
       "      <th>tournament</th>\n",
       "      <th>city</th>\n",
       "      <th>country</th>\n",
       "      <th>neutral</th>\n",
       "      <th>total_points_home</th>\n",
       "      <th>previous_points_home</th>\n",
       "      <th>rank_home</th>\n",
       "      <th>rank_change_home</th>\n",
       "      <th>total_points_away</th>\n",
       "      <th>previous_points_away</th>\n",
       "      <th>rank_away</th>\n",
       "      <th>rank_change_away</th>\n",
       "    </tr>\n",
       "  </thead>\n",
       "  <tbody>\n",
       "    <tr>\n",
       "      <th>0</th>\n",
       "      <td>2018-08-18</td>\n",
       "      <td>Andorra</td>\n",
       "      <td>United Arab Emirates</td>\n",
       "      <td>0</td>\n",
       "      <td>0</td>\n",
       "      <td>Friendly</td>\n",
       "      <td>Grödig</td>\n",
       "      <td>Austria</td>\n",
       "      <td>True</td>\n",
       "      <td>1120.0</td>\n",
       "      <td>1120.0</td>\n",
       "      <td>130.0</td>\n",
       "      <td>0.0</td>\n",
       "      <td>1312.0</td>\n",
       "      <td>1312.0</td>\n",
       "      <td>77.0</td>\n",
       "      <td>0.0</td>\n",
       "    </tr>\n",
       "    <tr>\n",
       "      <th>1</th>\n",
       "      <td>2018-08-18</td>\n",
       "      <td>Grenada</td>\n",
       "      <td>Jamaica</td>\n",
       "      <td>1</td>\n",
       "      <td>5</td>\n",
       "      <td>Friendly</td>\n",
       "      <td>St. George's</td>\n",
       "      <td>Grenada</td>\n",
       "      <td>False</td>\n",
       "      <td>980.0</td>\n",
       "      <td>980.0</td>\n",
       "      <td>168.0</td>\n",
       "      <td>0.0</td>\n",
       "      <td>1400.0</td>\n",
       "      <td>1400.0</td>\n",
       "      <td>54.0</td>\n",
       "      <td>0.0</td>\n",
       "    </tr>\n",
       "    <tr>\n",
       "      <th>2</th>\n",
       "      <td>2018-08-18</td>\n",
       "      <td>Guatemala</td>\n",
       "      <td>Cuba</td>\n",
       "      <td>1</td>\n",
       "      <td>0</td>\n",
       "      <td>Friendly</td>\n",
       "      <td>Quetzaltenango</td>\n",
       "      <td>Guatemala</td>\n",
       "      <td>False</td>\n",
       "      <td>1064.0</td>\n",
       "      <td>1064.0</td>\n",
       "      <td>146.0</td>\n",
       "      <td>0.0</td>\n",
       "      <td>940.0</td>\n",
       "      <td>940.0</td>\n",
       "      <td>181.0</td>\n",
       "      <td>0.0</td>\n",
       "    </tr>\n",
       "    <tr>\n",
       "      <th>3</th>\n",
       "      <td>2018-08-20</td>\n",
       "      <td>Barbados</td>\n",
       "      <td>Jamaica</td>\n",
       "      <td>2</td>\n",
       "      <td>2</td>\n",
       "      <td>Friendly</td>\n",
       "      <td>Bridgetown</td>\n",
       "      <td>Barbados</td>\n",
       "      <td>False</td>\n",
       "      <td>1005.0</td>\n",
       "      <td>1008.0</td>\n",
       "      <td>160.0</td>\n",
       "      <td>0.0</td>\n",
       "      <td>1400.0</td>\n",
       "      <td>1400.0</td>\n",
       "      <td>54.0</td>\n",
       "      <td>0.0</td>\n",
       "    </tr>\n",
       "    <tr>\n",
       "      <th>4</th>\n",
       "      <td>2018-08-26</td>\n",
       "      <td>Barbados</td>\n",
       "      <td>Cuba</td>\n",
       "      <td>0</td>\n",
       "      <td>0</td>\n",
       "      <td>Friendly</td>\n",
       "      <td>Bridgetown</td>\n",
       "      <td>Barbados</td>\n",
       "      <td>False</td>\n",
       "      <td>1005.0</td>\n",
       "      <td>1008.0</td>\n",
       "      <td>160.0</td>\n",
       "      <td>0.0</td>\n",
       "      <td>940.0</td>\n",
       "      <td>940.0</td>\n",
       "      <td>181.0</td>\n",
       "      <td>0.0</td>\n",
       "    </tr>\n",
       "  </tbody>\n",
       "</table>\n",
       "</div>"
      ],
      "text/plain": [
       "        date  home_team             away_team  home_score  away_score  \\\n",
       "0 2018-08-18    Andorra  United Arab Emirates           0           0   \n",
       "1 2018-08-18    Grenada               Jamaica           1           5   \n",
       "2 2018-08-18  Guatemala                  Cuba           1           0   \n",
       "3 2018-08-20   Barbados               Jamaica           2           2   \n",
       "4 2018-08-26   Barbados                  Cuba           0           0   \n",
       "\n",
       "  tournament            city    country  neutral  total_points_home  \\\n",
       "0   Friendly          Grödig    Austria     True             1120.0   \n",
       "1   Friendly    St. George's    Grenada    False              980.0   \n",
       "2   Friendly  Quetzaltenango  Guatemala    False             1064.0   \n",
       "3   Friendly      Bridgetown   Barbados    False             1005.0   \n",
       "4   Friendly      Bridgetown   Barbados    False             1005.0   \n",
       "\n",
       "   previous_points_home  rank_home  rank_change_home  total_points_away  \\\n",
       "0                1120.0      130.0               0.0             1312.0   \n",
       "1                 980.0      168.0               0.0             1400.0   \n",
       "2                1064.0      146.0               0.0              940.0   \n",
       "3                1008.0      160.0               0.0             1400.0   \n",
       "4                1008.0      160.0               0.0              940.0   \n",
       "\n",
       "   previous_points_away  rank_away  rank_change_away  \n",
       "0                1312.0       77.0               0.0  \n",
       "1                1400.0       54.0               0.0  \n",
       "2                 940.0      181.0               0.0  \n",
       "3                1400.0       54.0               0.0  \n",
       "4                 940.0      181.0               0.0  "
      ]
     },
     "execution_count": 17,
     "metadata": {},
     "output_type": "execute_result"
    }
   ],
   "source": [
    "Main_DF.head()"
   ]
  },
  {
   "cell_type": "code",
   "execution_count": 18,
   "metadata": {},
   "outputs": [
    {
     "data": {
      "text/plain": [
       "(3336, 17)"
      ]
     },
     "execution_count": 18,
     "metadata": {},
     "output_type": "execute_result"
    }
   ],
   "source": [
    "Main_DF.shape"
   ]
  },
  {
   "cell_type": "markdown",
   "metadata": {},
   "source": [
    "============================================================================================================================"
   ]
  },
  {
   "cell_type": "markdown",
   "metadata": {},
   "source": [
    "# Data Preprocessing"
   ]
  },
  {
   "cell_type": "code",
   "execution_count": 19,
   "metadata": {},
   "outputs": [],
   "source": [
    "def result_finder(home, away):\n",
    "    if home > away:\n",
    "        return pd.Series([0, 3, 0])\n",
    "    if home < away:\n",
    "        return pd.Series([1, 0, 3])\n",
    "    else:\n",
    "        return pd.Series([2, 1, 1])\n",
    "\n",
    "results = Main_DF.apply(lambda x: result_finder(x[\"home_score\"], x[\"away_score\"]), axis=1)"
   ]
  },
  {
   "cell_type": "code",
   "execution_count": 20,
   "metadata": {},
   "outputs": [],
   "source": [
    "Main_DF[[\"result\", \"home_team_points\", \"away_team_points\"]] = results"
   ]
  },
  {
   "cell_type": "code",
   "execution_count": 21,
   "metadata": {},
   "outputs": [],
   "source": [
    "Main_DF[\"rank_dif\"] = Main_DF[\"rank_home\"] - Main_DF[\"rank_away\"]\n",
    "Main_DF[\"sg\"] = Main_DF[\"home_score\"] - Main_DF[\"away_score\"]\n",
    "Main_DF[\"points_home_by_rank\"] = Main_DF[\"home_team_points\"]/Main_DF[\"rank_away\"]\n",
    "Main_DF[\"points_away_by_rank\"] = Main_DF[\"away_team_points\"]/Main_DF[\"rank_home\"]"
   ]
  },
  {
   "cell_type": "code",
   "execution_count": 22,
   "metadata": {},
   "outputs": [],
   "source": [
    "home_team = Main_DF[[\"date\", \"home_team\", \"home_score\", \"away_score\", \"rank_home\", \"rank_away\",\"rank_change_home\", \"total_points_home\", \"result\", \"rank_dif\", \"points_home_by_rank\", \"home_team_points\"]]\n",
    "\n",
    "away_team = Main_DF[[\"date\", \"away_team\", \"away_score\", \"home_score\", \"rank_away\", \"rank_home\",\"rank_change_away\", \"total_points_away\", \"result\", \"rank_dif\", \"points_away_by_rank\", \"away_team_points\"]]"
   ]
  },
  {
   "cell_type": "code",
   "execution_count": 23,
   "metadata": {},
   "outputs": [],
   "source": [
    "home_team.columns = [h.replace(\"home_\", \"\").replace(\"_home\", \"\").replace(\"away_\", \"suf_\").replace(\"_away\", \"_suf\") for h in home_team.columns]\n",
    "\n",
    "away_team.columns = [a.replace(\"away_\", \"\").replace(\"_away\", \"\").replace(\"home_\", \"suf_\").replace(\"_home\", \"_suf\") for a in away_team.columns]"
   ]
  },
  {
   "cell_type": "code",
   "execution_count": 24,
   "metadata": {},
   "outputs": [],
   "source": [
    "team_stats = home_team.append(away_team)"
   ]
  },
  {
   "cell_type": "code",
   "execution_count": 25,
   "metadata": {},
   "outputs": [
    {
     "data": {
      "text/html": [
       "<div>\n",
       "<style scoped>\n",
       "    .dataframe tbody tr th:only-of-type {\n",
       "        vertical-align: middle;\n",
       "    }\n",
       "\n",
       "    .dataframe tbody tr th {\n",
       "        vertical-align: top;\n",
       "    }\n",
       "\n",
       "    .dataframe thead th {\n",
       "        text-align: right;\n",
       "    }\n",
       "</style>\n",
       "<table border=\"1\" class=\"dataframe\">\n",
       "  <thead>\n",
       "    <tr style=\"text-align: right;\">\n",
       "      <th></th>\n",
       "      <th>date</th>\n",
       "      <th>team</th>\n",
       "      <th>score</th>\n",
       "      <th>suf_score</th>\n",
       "      <th>rank</th>\n",
       "      <th>rank_suf</th>\n",
       "      <th>rank_change</th>\n",
       "      <th>total_points</th>\n",
       "      <th>result</th>\n",
       "      <th>rank_dif</th>\n",
       "      <th>points_by_rank</th>\n",
       "      <th>team_points</th>\n",
       "    </tr>\n",
       "  </thead>\n",
       "  <tbody>\n",
       "    <tr>\n",
       "      <th>0</th>\n",
       "      <td>2018-08-18</td>\n",
       "      <td>Andorra</td>\n",
       "      <td>0</td>\n",
       "      <td>0</td>\n",
       "      <td>130.0</td>\n",
       "      <td>77.0</td>\n",
       "      <td>0.0</td>\n",
       "      <td>1120.00</td>\n",
       "      <td>2</td>\n",
       "      <td>53.0</td>\n",
       "      <td>0.012987</td>\n",
       "      <td>1</td>\n",
       "    </tr>\n",
       "    <tr>\n",
       "      <th>1</th>\n",
       "      <td>2018-08-18</td>\n",
       "      <td>Grenada</td>\n",
       "      <td>1</td>\n",
       "      <td>5</td>\n",
       "      <td>168.0</td>\n",
       "      <td>54.0</td>\n",
       "      <td>0.0</td>\n",
       "      <td>980.00</td>\n",
       "      <td>1</td>\n",
       "      <td>114.0</td>\n",
       "      <td>0.000000</td>\n",
       "      <td>0</td>\n",
       "    </tr>\n",
       "    <tr>\n",
       "      <th>2</th>\n",
       "      <td>2018-08-18</td>\n",
       "      <td>Guatemala</td>\n",
       "      <td>1</td>\n",
       "      <td>0</td>\n",
       "      <td>146.0</td>\n",
       "      <td>181.0</td>\n",
       "      <td>0.0</td>\n",
       "      <td>1064.00</td>\n",
       "      <td>0</td>\n",
       "      <td>-35.0</td>\n",
       "      <td>0.016575</td>\n",
       "      <td>3</td>\n",
       "    </tr>\n",
       "    <tr>\n",
       "      <th>3</th>\n",
       "      <td>2018-08-20</td>\n",
       "      <td>Barbados</td>\n",
       "      <td>2</td>\n",
       "      <td>2</td>\n",
       "      <td>160.0</td>\n",
       "      <td>54.0</td>\n",
       "      <td>0.0</td>\n",
       "      <td>1005.00</td>\n",
       "      <td>2</td>\n",
       "      <td>106.0</td>\n",
       "      <td>0.018519</td>\n",
       "      <td>1</td>\n",
       "    </tr>\n",
       "    <tr>\n",
       "      <th>4</th>\n",
       "      <td>2018-08-26</td>\n",
       "      <td>Barbados</td>\n",
       "      <td>0</td>\n",
       "      <td>0</td>\n",
       "      <td>160.0</td>\n",
       "      <td>181.0</td>\n",
       "      <td>0.0</td>\n",
       "      <td>1005.00</td>\n",
       "      <td>2</td>\n",
       "      <td>-21.0</td>\n",
       "      <td>0.005525</td>\n",
       "      <td>1</td>\n",
       "    </tr>\n",
       "    <tr>\n",
       "      <th>...</th>\n",
       "      <td>...</td>\n",
       "      <td>...</td>\n",
       "      <td>...</td>\n",
       "      <td>...</td>\n",
       "      <td>...</td>\n",
       "      <td>...</td>\n",
       "      <td>...</td>\n",
       "      <td>...</td>\n",
       "      <td>...</td>\n",
       "      <td>...</td>\n",
       "      <td>...</td>\n",
       "      <td>...</td>\n",
       "    </tr>\n",
       "    <tr>\n",
       "      <th>3331</th>\n",
       "      <td>2022-09-27</td>\n",
       "      <td>Serbia</td>\n",
       "      <td>2</td>\n",
       "      <td>0</td>\n",
       "      <td>25.0</td>\n",
       "      <td>36.0</td>\n",
       "      <td>0.0</td>\n",
       "      <td>1549.53</td>\n",
       "      <td>1</td>\n",
       "      <td>11.0</td>\n",
       "      <td>0.083333</td>\n",
       "      <td>3</td>\n",
       "    </tr>\n",
       "    <tr>\n",
       "      <th>3332</th>\n",
       "      <td>2022-09-27</td>\n",
       "      <td>Slovenia</td>\n",
       "      <td>1</td>\n",
       "      <td>1</td>\n",
       "      <td>65.0</td>\n",
       "      <td>20.0</td>\n",
       "      <td>0.0</td>\n",
       "      <td>1372.48</td>\n",
       "      <td>2</td>\n",
       "      <td>-45.0</td>\n",
       "      <td>0.050000</td>\n",
       "      <td>1</td>\n",
       "    </tr>\n",
       "    <tr>\n",
       "      <th>3333</th>\n",
       "      <td>2022-09-27</td>\n",
       "      <td>Cyprus</td>\n",
       "      <td>1</td>\n",
       "      <td>5</td>\n",
       "      <td>108.0</td>\n",
       "      <td>106.0</td>\n",
       "      <td>1.0</td>\n",
       "      <td>1180.52</td>\n",
       "      <td>0</td>\n",
       "      <td>-2.0</td>\n",
       "      <td>0.000000</td>\n",
       "      <td>0</td>\n",
       "    </tr>\n",
       "    <tr>\n",
       "      <th>3334</th>\n",
       "      <td>2022-09-27</td>\n",
       "      <td>Northern Ireland</td>\n",
       "      <td>1</td>\n",
       "      <td>3</td>\n",
       "      <td>58.0</td>\n",
       "      <td>49.0</td>\n",
       "      <td>0.0</td>\n",
       "      <td>1399.10</td>\n",
       "      <td>0</td>\n",
       "      <td>-9.0</td>\n",
       "      <td>0.000000</td>\n",
       "      <td>0</td>\n",
       "    </tr>\n",
       "    <tr>\n",
       "      <th>3335</th>\n",
       "      <td>2022-09-30</td>\n",
       "      <td>Solomon Islands</td>\n",
       "      <td>0</td>\n",
       "      <td>1</td>\n",
       "      <td>137.0</td>\n",
       "      <td>163.0</td>\n",
       "      <td>0.0</td>\n",
       "      <td>1092.56</td>\n",
       "      <td>0</td>\n",
       "      <td>26.0</td>\n",
       "      <td>0.000000</td>\n",
       "      <td>0</td>\n",
       "    </tr>\n",
       "  </tbody>\n",
       "</table>\n",
       "<p>6672 rows × 12 columns</p>\n",
       "</div>"
      ],
      "text/plain": [
       "           date              team  score  suf_score   rank  rank_suf  \\\n",
       "0    2018-08-18           Andorra      0          0  130.0      77.0   \n",
       "1    2018-08-18           Grenada      1          5  168.0      54.0   \n",
       "2    2018-08-18         Guatemala      1          0  146.0     181.0   \n",
       "3    2018-08-20          Barbados      2          2  160.0      54.0   \n",
       "4    2018-08-26          Barbados      0          0  160.0     181.0   \n",
       "...         ...               ...    ...        ...    ...       ...   \n",
       "3331 2022-09-27            Serbia      2          0   25.0      36.0   \n",
       "3332 2022-09-27          Slovenia      1          1   65.0      20.0   \n",
       "3333 2022-09-27            Cyprus      1          5  108.0     106.0   \n",
       "3334 2022-09-27  Northern Ireland      1          3   58.0      49.0   \n",
       "3335 2022-09-30   Solomon Islands      0          1  137.0     163.0   \n",
       "\n",
       "      rank_change  total_points  result  rank_dif  points_by_rank  team_points  \n",
       "0             0.0       1120.00       2      53.0        0.012987            1  \n",
       "1             0.0        980.00       1     114.0        0.000000            0  \n",
       "2             0.0       1064.00       0     -35.0        0.016575            3  \n",
       "3             0.0       1005.00       2     106.0        0.018519            1  \n",
       "4             0.0       1005.00       2     -21.0        0.005525            1  \n",
       "...           ...           ...     ...       ...             ...          ...  \n",
       "3331          0.0       1549.53       1      11.0        0.083333            3  \n",
       "3332          0.0       1372.48       2     -45.0        0.050000            1  \n",
       "3333          1.0       1180.52       0      -2.0        0.000000            0  \n",
       "3334          0.0       1399.10       0      -9.0        0.000000            0  \n",
       "3335          0.0       1092.56       0      26.0        0.000000            0  \n",
       "\n",
       "[6672 rows x 12 columns]"
      ]
     },
     "execution_count": 25,
     "metadata": {},
     "output_type": "execute_result"
    }
   ],
   "source": [
    "team_stats"
   ]
  },
  {
   "cell_type": "code",
   "execution_count": 26,
   "metadata": {},
   "outputs": [],
   "source": [
    "stats_val = []\n",
    "\n",
    "for index, row in team_stats.iterrows():\n",
    "    team = row[\"team\"]\n",
    "    date = row[\"date\"]\n",
    "    past_games = team_stats.loc[(team_stats[\"team\"] == team) & (team_stats[\"date\"] < date)].sort_values(by=['date'], ascending=False)\n",
    "    last5 = past_games.head(5)\n",
    "    \n",
    "    goals = past_games[\"score\"].mean()\n",
    "    goals_l5 = last5[\"score\"].mean()\n",
    "    \n",
    "    goals_suf = past_games[\"suf_score\"].mean()\n",
    "    goals_suf_l5 = last5[\"suf_score\"].mean()\n",
    "    \n",
    "    rank = past_games[\"rank_suf\"].mean()\n",
    "    rank_l5 = last5[\"rank_suf\"].mean()\n",
    "    \n",
    "    if len(last5) > 0:\n",
    "        points = past_games[\"total_points\"].values[0] - past_games[\"total_points\"].values[-1]#qtd de pontos ganhos\n",
    "        points_l5 = last5[\"total_points\"].values[0] - last5[\"total_points\"].values[-1] \n",
    "    else:\n",
    "        points = 0\n",
    "        points_l5 = 0\n",
    "        \n",
    "    gp = past_games[\"team_points\"].mean()\n",
    "    gp_l5 = last5[\"team_points\"].mean()\n",
    "    \n",
    "    gp_rank = past_games[\"points_by_rank\"].mean()\n",
    "    gp_rank_l5 = last5[\"points_by_rank\"].mean()\n",
    "    \n",
    "    stats_val.append([goals, goals_l5, goals_suf, goals_suf_l5, rank, rank_l5, points, points_l5, gp, gp_l5, gp_rank, gp_rank_l5])"
   ]
  },
  {
   "cell_type": "code",
   "execution_count": 27,
   "metadata": {},
   "outputs": [
    {
     "data": {
      "text/plain": [
       "[2.7857142857142856,\n",
       " 1.8,\n",
       " 1.8571428571428572,\n",
       " 2.0,\n",
       " 163.64285714285714,\n",
       " 151.6,\n",
       " 20.559999999999945,\n",
       " 19.779999999999973,\n",
       " 1.7142857142857142,\n",
       " 2.0,\n",
       " 0.010013100972005196,\n",
       " 0.012386942407054688]"
      ]
     },
     "execution_count": 27,
     "metadata": {},
     "output_type": "execute_result"
    }
   ],
   "source": [
    "stats_val[-1]"
   ]
  },
  {
   "cell_type": "code",
   "execution_count": 28,
   "metadata": {},
   "outputs": [],
   "source": [
    "stats_mean = [\"goals_mean\", \"goals_mean_l5\", \"goals_suf_mean\", \"goals_suf_mean_l5\", \"rank_mean\", \"rank_mean_l5\", \"points_mean\", \"points_mean_l5\", \"game_points_mean\", \"game_points_mean_l5\", \"game_points_rank_mean\", \"game_points_rank_mean_l5\"]\n"
   ]
  },
  {
   "cell_type": "code",
   "execution_count": 29,
   "metadata": {},
   "outputs": [],
   "source": [
    "stats_df = pd.DataFrame(stats_val, columns=stats_mean)\n",
    "\n",
    "full_df = pd.concat([team_stats.reset_index(drop=True), stats_df], axis=1, ignore_index=False)"
   ]
  },
  {
   "cell_type": "code",
   "execution_count": 30,
   "metadata": {},
   "outputs": [],
   "source": [
    "home_team_stats = full_df.iloc[:int(full_df.shape[0]/2),:]\n",
    "away_team_stats = full_df.iloc[int(full_df.shape[0]/2):,:]"
   ]
  },
  {
   "cell_type": "code",
   "execution_count": 31,
   "metadata": {},
   "outputs": [
    {
     "data": {
      "text/plain": [
       "Index(['goals_mean', 'goals_mean_l5', 'goals_suf_mean', 'goals_suf_mean_l5',\n",
       "       'rank_mean', 'rank_mean_l5', 'points_mean', 'points_mean_l5',\n",
       "       'game_points_mean', 'game_points_mean_l5', 'game_points_rank_mean',\n",
       "       'game_points_rank_mean_l5'],\n",
       "      dtype='object')"
      ]
     },
     "execution_count": 31,
     "metadata": {},
     "output_type": "execute_result"
    }
   ],
   "source": [
    "home_team_stats.columns[-12:]"
   ]
  },
  {
   "cell_type": "code",
   "execution_count": 32,
   "metadata": {},
   "outputs": [],
   "source": [
    "home_team_stats = home_team_stats[home_team_stats.columns[-12:]]\n",
    "away_team_stats = away_team_stats[away_team_stats.columns[-12:]]"
   ]
  },
  {
   "cell_type": "code",
   "execution_count": 33,
   "metadata": {},
   "outputs": [],
   "source": [
    "home_team_stats.columns = ['home_'+str(col) for col in home_team_stats.columns]\n",
    "away_team_stats.columns = ['away_'+str(col) for col in away_team_stats.columns]"
   ]
  },
  {
   "cell_type": "code",
   "execution_count": 34,
   "metadata": {},
   "outputs": [],
   "source": [
    "match_stats = pd.concat([home_team_stats, away_team_stats.reset_index(drop=True)], axis=1, ignore_index=False)\n",
    "full_df = pd.concat([Main_DF, match_stats.reset_index(drop=True)], axis=1, ignore_index=False)"
   ]
  },
  {
   "cell_type": "code",
   "execution_count": 35,
   "metadata": {},
   "outputs": [
    {
     "data": {
      "text/plain": [
       "Index(['date', 'home_team', 'away_team', 'home_score', 'away_score',\n",
       "       'tournament', 'city', 'country', 'neutral', 'total_points_home',\n",
       "       'previous_points_home', 'rank_home', 'rank_change_home',\n",
       "       'total_points_away', 'previous_points_away', 'rank_away',\n",
       "       'rank_change_away', 'result', 'home_team_points', 'away_team_points',\n",
       "       'rank_dif', 'sg', 'points_home_by_rank', 'points_away_by_rank',\n",
       "       'home_goals_mean', 'home_goals_mean_l5', 'home_goals_suf_mean',\n",
       "       'home_goals_suf_mean_l5', 'home_rank_mean', 'home_rank_mean_l5',\n",
       "       'home_points_mean', 'home_points_mean_l5', 'home_game_points_mean',\n",
       "       'home_game_points_mean_l5', 'home_game_points_rank_mean',\n",
       "       'home_game_points_rank_mean_l5', 'away_goals_mean',\n",
       "       'away_goals_mean_l5', 'away_goals_suf_mean', 'away_goals_suf_mean_l5',\n",
       "       'away_rank_mean', 'away_rank_mean_l5', 'away_points_mean',\n",
       "       'away_points_mean_l5', 'away_game_points_mean',\n",
       "       'away_game_points_mean_l5', 'away_game_points_rank_mean',\n",
       "       'away_game_points_rank_mean_l5'],\n",
       "      dtype='object')"
      ]
     },
     "execution_count": 35,
     "metadata": {},
     "output_type": "execute_result"
    }
   ],
   "source": [
    "full_df.columns"
   ]
  },
  {
   "cell_type": "code",
   "execution_count": 36,
   "metadata": {},
   "outputs": [],
   "source": [
    "def find_friendly(x):\n",
    "    if x == \"Friendly\":\n",
    "        return 1\n",
    "    else: return 0\n",
    "\n",
    "full_df[\"is_friendly\"] = full_df[\"tournament\"].apply(lambda x: find_friendly(x)) "
   ]
  },
  {
   "cell_type": "code",
   "execution_count": 37,
   "metadata": {},
   "outputs": [],
   "source": [
    "full_df = pd.get_dummies(full_df, columns=[\"is_friendly\"])"
   ]
  },
  {
   "cell_type": "code",
   "execution_count": 38,
   "metadata": {},
   "outputs": [
    {
     "data": {
      "text/plain": [
       "Index(['date', 'home_team', 'away_team', 'home_score', 'away_score',\n",
       "       'tournament', 'city', 'country', 'neutral', 'total_points_home',\n",
       "       'previous_points_home', 'rank_home', 'rank_change_home',\n",
       "       'total_points_away', 'previous_points_away', 'rank_away',\n",
       "       'rank_change_away', 'result', 'home_team_points', 'away_team_points',\n",
       "       'rank_dif', 'sg', 'points_home_by_rank', 'points_away_by_rank',\n",
       "       'home_goals_mean', 'home_goals_mean_l5', 'home_goals_suf_mean',\n",
       "       'home_goals_suf_mean_l5', 'home_rank_mean', 'home_rank_mean_l5',\n",
       "       'home_points_mean', 'home_points_mean_l5', 'home_game_points_mean',\n",
       "       'home_game_points_mean_l5', 'home_game_points_rank_mean',\n",
       "       'home_game_points_rank_mean_l5', 'away_goals_mean',\n",
       "       'away_goals_mean_l5', 'away_goals_suf_mean', 'away_goals_suf_mean_l5',\n",
       "       'away_rank_mean', 'away_rank_mean_l5', 'away_points_mean',\n",
       "       'away_points_mean_l5', 'away_game_points_mean',\n",
       "       'away_game_points_mean_l5', 'away_game_points_rank_mean',\n",
       "       'away_game_points_rank_mean_l5', 'is_friendly_0', 'is_friendly_1'],\n",
       "      dtype='object')"
      ]
     },
     "execution_count": 38,
     "metadata": {},
     "output_type": "execute_result"
    }
   ],
   "source": [
    "full_df.columns"
   ]
  },
  {
   "cell_type": "code",
   "execution_count": 39,
   "metadata": {},
   "outputs": [],
   "source": [
    "base_df = full_df[[\"date\", \"home_team\", \"away_team\", \"rank_home\", \"rank_away\",\"home_score\", \"away_score\",\"result\", \"rank_dif\", \"rank_change_home\", \"rank_change_away\", 'home_goals_mean',\n",
    "       'home_goals_mean_l5', 'home_goals_suf_mean', 'home_goals_suf_mean_l5',\n",
    "       'home_rank_mean', 'home_rank_mean_l5', 'home_points_mean',\n",
    "       'home_points_mean_l5', 'away_goals_mean', 'away_goals_mean_l5',\n",
    "       'away_goals_suf_mean', 'away_goals_suf_mean_l5', 'away_rank_mean',\n",
    "       'away_rank_mean_l5', 'away_points_mean', 'away_points_mean_l5','home_game_points_mean', 'home_game_points_mean_l5',\n",
    "       'home_game_points_rank_mean', 'home_game_points_rank_mean_l5','away_game_points_mean',\n",
    "       'away_game_points_mean_l5', 'away_game_points_rank_mean',\n",
    "       'away_game_points_rank_mean_l5',\n",
    "       'is_friendly_0', 'is_friendly_1']]"
   ]
  },
  {
   "cell_type": "code",
   "execution_count": 40,
   "metadata": {},
   "outputs": [],
   "source": [
    "base_df_no_fg = base_df.dropna()"
   ]
  },
  {
   "cell_type": "code",
   "execution_count": 41,
   "metadata": {},
   "outputs": [
    {
     "data": {
      "text/plain": [
       "0    1551\n",
       "1     906\n",
       "2     744\n",
       "Name: result, dtype: int64"
      ]
     },
     "execution_count": 41,
     "metadata": {},
     "output_type": "execute_result"
    }
   ],
   "source": [
    "base_df_no_fg.result.value_counts()"
   ]
  },
  {
   "cell_type": "code",
   "execution_count": 45,
   "metadata": {},
   "outputs": [],
   "source": [
    "x = Main_DF.iloc[:, 3:]\n",
    "y = Main_DF['target']"
   ]
  },
  {
   "cell_type": "code",
   "execution_count": 46,
   "metadata": {},
   "outputs": [],
   "source": [
    "X_train, X_test, y_train, y_test = train_test_split(x, y, test_size= 0.2, random_state=1)"
   ]
  },
  {
   "cell_type": "markdown",
   "metadata": {},
   "source": [
    "============================================================================================================================"
   ]
  },
  {
   "cell_type": "markdown",
   "metadata": {},
   "source": [
    "# Building & Training the Model"
   ]
  },
  {
   "cell_type": "code",
   "execution_count": 47,
   "metadata": {},
   "outputs": [
    {
     "data": {
      "text/html": [
       "<style>#sk-container-id-1 {color: black;background-color: white;}#sk-container-id-1 pre{padding: 0;}#sk-container-id-1 div.sk-toggleable {background-color: white;}#sk-container-id-1 label.sk-toggleable__label {cursor: pointer;display: block;width: 100%;margin-bottom: 0;padding: 0.3em;box-sizing: border-box;text-align: center;}#sk-container-id-1 label.sk-toggleable__label-arrow:before {content: \"▸\";float: left;margin-right: 0.25em;color: #696969;}#sk-container-id-1 label.sk-toggleable__label-arrow:hover:before {color: black;}#sk-container-id-1 div.sk-estimator:hover label.sk-toggleable__label-arrow:before {color: black;}#sk-container-id-1 div.sk-toggleable__content {max-height: 0;max-width: 0;overflow: hidden;text-align: left;background-color: #f0f8ff;}#sk-container-id-1 div.sk-toggleable__content pre {margin: 0.2em;color: black;border-radius: 0.25em;background-color: #f0f8ff;}#sk-container-id-1 input.sk-toggleable__control:checked~div.sk-toggleable__content {max-height: 200px;max-width: 100%;overflow: auto;}#sk-container-id-1 input.sk-toggleable__control:checked~label.sk-toggleable__label-arrow:before {content: \"▾\";}#sk-container-id-1 div.sk-estimator input.sk-toggleable__control:checked~label.sk-toggleable__label {background-color: #d4ebff;}#sk-container-id-1 div.sk-label input.sk-toggleable__control:checked~label.sk-toggleable__label {background-color: #d4ebff;}#sk-container-id-1 input.sk-hidden--visually {border: 0;clip: rect(1px 1px 1px 1px);clip: rect(1px, 1px, 1px, 1px);height: 1px;margin: -1px;overflow: hidden;padding: 0;position: absolute;width: 1px;}#sk-container-id-1 div.sk-estimator {font-family: monospace;background-color: #f0f8ff;border: 1px dotted black;border-radius: 0.25em;box-sizing: border-box;margin-bottom: 0.5em;}#sk-container-id-1 div.sk-estimator:hover {background-color: #d4ebff;}#sk-container-id-1 div.sk-parallel-item::after {content: \"\";width: 100%;border-bottom: 1px solid gray;flex-grow: 1;}#sk-container-id-1 div.sk-label:hover label.sk-toggleable__label {background-color: #d4ebff;}#sk-container-id-1 div.sk-serial::before {content: \"\";position: absolute;border-left: 1px solid gray;box-sizing: border-box;top: 0;bottom: 0;left: 50%;z-index: 0;}#sk-container-id-1 div.sk-serial {display: flex;flex-direction: column;align-items: center;background-color: white;padding-right: 0.2em;padding-left: 0.2em;position: relative;}#sk-container-id-1 div.sk-item {position: relative;z-index: 1;}#sk-container-id-1 div.sk-parallel {display: flex;align-items: stretch;justify-content: center;background-color: white;position: relative;}#sk-container-id-1 div.sk-item::before, #sk-container-id-1 div.sk-parallel-item::before {content: \"\";position: absolute;border-left: 1px solid gray;box-sizing: border-box;top: 0;bottom: 0;left: 50%;z-index: -1;}#sk-container-id-1 div.sk-parallel-item {display: flex;flex-direction: column;z-index: 1;position: relative;background-color: white;}#sk-container-id-1 div.sk-parallel-item:first-child::after {align-self: flex-end;width: 50%;}#sk-container-id-1 div.sk-parallel-item:last-child::after {align-self: flex-start;width: 50%;}#sk-container-id-1 div.sk-parallel-item:only-child::after {width: 0;}#sk-container-id-1 div.sk-dashed-wrapped {border: 1px dashed gray;margin: 0 0.4em 0.5em 0.4em;box-sizing: border-box;padding-bottom: 0.4em;background-color: white;}#sk-container-id-1 div.sk-label label {font-family: monospace;font-weight: bold;display: inline-block;line-height: 1.2em;}#sk-container-id-1 div.sk-label-container {text-align: center;}#sk-container-id-1 div.sk-container {/* jupyter's `normalize.less` sets `[hidden] { display: none; }` but bootstrap.min.css set `[hidden] { display: none !important; }` so we also need the `!important` here to be able to override the default hidden behavior on the sphinx rendered scikit-learn.org. See: https://github.com/scikit-learn/scikit-learn/issues/21755 */display: inline-block !important;position: relative;}#sk-container-id-1 div.sk-text-repr-fallback {display: none;}</style><div id=\"sk-container-id-1\" class=\"sk-top-container\"><div class=\"sk-text-repr-fallback\"><pre>GradientBoostingClassifier(random_state=5)</pre><b>In a Jupyter environment, please rerun this cell to show the HTML representation or trust the notebook. <br />On GitHub, the HTML representation is unable to render, please try loading this page with nbviewer.org.</b></div><div class=\"sk-container\" hidden><div class=\"sk-item\"><div class=\"sk-estimator sk-toggleable\"><input class=\"sk-toggleable__control sk-hidden--visually\" id=\"sk-estimator-id-1\" type=\"checkbox\" checked><label for=\"sk-estimator-id-1\" class=\"sk-toggleable__label sk-toggleable__label-arrow\">GradientBoostingClassifier</label><div class=\"sk-toggleable__content\"><pre>GradientBoostingClassifier(random_state=5)</pre></div></div></div></div></div>"
      ],
      "text/plain": [
       "GradientBoostingClassifier(random_state=5)"
      ]
     },
     "execution_count": 47,
     "metadata": {},
     "output_type": "execute_result"
    }
   ],
   "source": [
    "gb = GradientBoostingClassifier(random_state=5)\n",
    "\n",
    "gb.fit(X_train, np.ravel(y_train))"
   ]
  },
  {
   "cell_type": "code",
   "execution_count": 51,
   "metadata": {},
   "outputs": [],
   "source": [
    "predictions = gb.predict(X_test)"
   ]
  },
  {
   "cell_type": "markdown",
   "metadata": {},
   "source": [
    "============================================================================================================================"
   ]
  },
  {
   "cell_type": "markdown",
   "metadata": {},
   "source": [
    "# Model Evaluation"
   ]
  },
  {
   "cell_type": "code",
   "execution_count": 63,
   "metadata": {},
   "outputs": [
    {
     "name": "stderr",
     "output_type": "stream",
     "text": [
      "c:\\Users\\omara\\anaconda3\\lib\\site-packages\\sklearn\\base.py:450: UserWarning: X does not have valid feature names, but GradientBoostingClassifier was fitted with feature names\n",
      "  warnings.warn(\n",
      "c:\\Users\\omara\\anaconda3\\lib\\site-packages\\sklearn\\base.py:450: UserWarning: X does not have valid feature names, but GradientBoostingClassifier was fitted with feature names\n",
      "  warnings.warn(\n",
      "c:\\Users\\omara\\anaconda3\\lib\\site-packages\\sklearn\\base.py:450: UserWarning: X does not have valid feature names, but GradientBoostingClassifier was fitted with feature names\n",
      "  warnings.warn(\n",
      "c:\\Users\\omara\\anaconda3\\lib\\site-packages\\sklearn\\base.py:450: UserWarning: X does not have valid feature names, but GradientBoostingClassifier was fitted with feature names\n",
      "  warnings.warn(\n"
     ]
    },
    {
     "data": {
      "image/png": "[encoded data removed]",
      "text/plain": [
       "<Figure size 800x500 with 1 Axes>"
      ]
     },
     "metadata": {},
     "output_type": "display_data"
    }
   ],
   "source": [
    "with plt.style.context('default'):    \n",
    "    fpr, tpr, _ = roc_curve(y_test, gb.predict_proba(X_test.values)[:,1]) \n",
    "    plt.figure(figsize=(8,5))\n",
    "    plt.plot([0, 1], [0, 1], 'k--')\n",
    "    plt.plot(fpr, tpr, label=\"test\")\n",
    "\n",
    "    fpr_train, tpr_train, _ = roc_curve(y_train, gb.predict_proba(X_train.values)[:,1])\n",
    "    plt.plot(fpr_train, tpr_train, label=\"train\")\n",
    "    auc_test = roc_auc_score(y_test, gb.predict_proba(X_test.values)[:,1])\n",
    "    auc_train = roc_auc_score(y_train, gb.predict_proba(X_train.values)[:,1])\n",
    "    plt.legend()\n",
    "    plt.title('AUC score is %.2f on test and %.2f on training'%(auc_test, auc_train))\n",
    "    plt.show()"
   ]
  },
  {
   "cell_type": "code",
   "execution_count": 62,
   "metadata": {},
   "outputs": [
    {
     "name": "stderr",
     "output_type": "stream",
     "text": [
      "c:\\Users\\omara\\anaconda3\\lib\\site-packages\\sklearn\\base.py:450: UserWarning: X does not have valid feature names, but GradientBoostingClassifier was fitted with feature names\n",
      "  warnings.warn(\n"
     ]
    },
    {
     "data": {
      "image/png": "[encoded data removed]",
      "text/plain": [
       "<Figure size 800x500 with 2 Axes>"
      ]
     },
     "metadata": {},
     "output_type": "display_data"
    }
   ],
   "source": [
    "with plt.style.context('default'):    \n",
    "    plt.figure(figsize=(8, 5))\n",
    "    cm = confusion_matrix(y_test, gb.predict(X_test.values))\n",
    "    sns.heatmap(cm, annot=True, fmt=\"d\")"
   ]
  },
  {
   "cell_type": "markdown",
   "metadata": {},
   "source": [
    "============================================================================================================================"
   ]
  },
  {
   "cell_type": "markdown",
   "metadata": {},
   "source": [
    "# Optimization of the Model"
   ]
  },
  {
   "cell_type": "code",
   "execution_count": 65,
   "metadata": {},
   "outputs": [],
   "source": [
    "parameters = {\n",
    "            \"learning_rate\": [0.01, 0.1, 0.5],\n",
    "            \"min_samples_split\": [5, 10],\n",
    "            \"min_samples_leaf\": [3, 5],\n",
    "            \"max_depth\":[3,5,10],\n",
    "            \"max_features\":[\"sqrt\"],\n",
    "            \"n_estimators\":[100, 200]\n",
    "}"
   ]
  },
  {
   "cell_type": "code",
   "execution_count": 66,
   "metadata": {},
   "outputs": [],
   "source": [
    "gb_Model = GridSearchCV(gb,param_grid=parameters,cv = 3, n_jobs = -1,verbose=20)"
   ]
  },
  {
   "cell_type": "code",
   "execution_count": 67,
   "metadata": {},
   "outputs": [
    {
     "name": "stdout",
     "output_type": "stream",
     "text": [
      "Fitting 3 folds for each of 72 candidates, totalling 216 fits\n"
     ]
    },
    {
     "data": {
      "text/html": [
       "<style>#sk-container-id-2 {color: black;background-color: white;}#sk-container-id-2 pre{padding: 0;}#sk-container-id-2 div.sk-toggleable {background-color: white;}#sk-container-id-2 label.sk-toggleable__label {cursor: pointer;display: block;width: 100%;margin-bottom: 0;padding: 0.3em;box-sizing: border-box;text-align: center;}#sk-container-id-2 label.sk-toggleable__label-arrow:before {content: \"▸\";float: left;margin-right: 0.25em;color: #696969;}#sk-container-id-2 label.sk-toggleable__label-arrow:hover:before {color: black;}#sk-container-id-2 div.sk-estimator:hover label.sk-toggleable__label-arrow:before {color: black;}#sk-container-id-2 div.sk-toggleable__content {max-height: 0;max-width: 0;overflow: hidden;text-align: left;background-color: #f0f8ff;}#sk-container-id-2 div.sk-toggleable__content pre {margin: 0.2em;color: black;border-radius: 0.25em;background-color: #f0f8ff;}#sk-container-id-2 input.sk-toggleable__control:checked~div.sk-toggleable__content {max-height: 200px;max-width: 100%;overflow: auto;}#sk-container-id-2 input.sk-toggleable__control:checked~label.sk-toggleable__label-arrow:before {content: \"▾\";}#sk-container-id-2 div.sk-estimator input.sk-toggleable__control:checked~label.sk-toggleable__label {background-color: #d4ebff;}#sk-container-id-2 div.sk-label input.sk-toggleable__control:checked~label.sk-toggleable__label {background-color: #d4ebff;}#sk-container-id-2 input.sk-hidden--visually {border: 0;clip: rect(1px 1px 1px 1px);clip: rect(1px, 1px, 1px, 1px);height: 1px;margin: -1px;overflow: hidden;padding: 0;position: absolute;width: 1px;}#sk-container-id-2 div.sk-estimator {font-family: monospace;background-color: #f0f8ff;border: 1px dotted black;border-radius: 0.25em;box-sizing: border-box;margin-bottom: 0.5em;}#sk-container-id-2 div.sk-estimator:hover {background-color: #d4ebff;}#sk-container-id-2 div.sk-parallel-item::after {content: \"\";width: 100%;border-bottom: 1px solid gray;flex-grow: 1;}#sk-container-id-2 div.sk-label:hover label.sk-toggleable__label {background-color: #d4ebff;}#sk-container-id-2 div.sk-serial::before {content: \"\";position: absolute;border-left: 1px solid gray;box-sizing: border-box;top: 0;bottom: 0;left: 50%;z-index: 0;}#sk-container-id-2 div.sk-serial {display: flex;flex-direction: column;align-items: center;background-color: white;padding-right: 0.2em;padding-left: 0.2em;position: relative;}#sk-container-id-2 div.sk-item {position: relative;z-index: 1;}#sk-container-id-2 div.sk-parallel {display: flex;align-items: stretch;justify-content: center;background-color: white;position: relative;}#sk-container-id-2 div.sk-item::before, #sk-container-id-2 div.sk-parallel-item::before {content: \"\";position: absolute;border-left: 1px solid gray;box-sizing: border-box;top: 0;bottom: 0;left: 50%;z-index: -1;}#sk-container-id-2 div.sk-parallel-item {display: flex;flex-direction: column;z-index: 1;position: relative;background-color: white;}#sk-container-id-2 div.sk-parallel-item:first-child::after {align-self: flex-end;width: 50%;}#sk-container-id-2 div.sk-parallel-item:last-child::after {align-self: flex-start;width: 50%;}#sk-container-id-2 div.sk-parallel-item:only-child::after {width: 0;}#sk-container-id-2 div.sk-dashed-wrapped {border: 1px dashed gray;margin: 0 0.4em 0.5em 0.4em;box-sizing: border-box;padding-bottom: 0.4em;background-color: white;}#sk-container-id-2 div.sk-label label {font-family: monospace;font-weight: bold;display: inline-block;line-height: 1.2em;}#sk-container-id-2 div.sk-label-container {text-align: center;}#sk-container-id-2 div.sk-container {/* jupyter's `normalize.less` sets `[hidden] { display: none; }` but bootstrap.min.css set `[hidden] { display: none !important; }` so we also need the `!important` here to be able to override the default hidden behavior on the sphinx rendered scikit-learn.org. See: https://github.com/scikit-learn/scikit-learn/issues/21755 */display: inline-block !important;position: relative;}#sk-container-id-2 div.sk-text-repr-fallback {display: none;}</style><div id=\"sk-container-id-2\" class=\"sk-top-container\"><div class=\"sk-text-repr-fallback\"><pre>GridSearchCV(cv=3, estimator=GradientBoostingClassifier(random_state=5),\n",
       "             n_jobs=-1,\n",
       "             param_grid={&#x27;learning_rate&#x27;: [0.01, 0.1, 0.5],\n",
       "                         &#x27;max_depth&#x27;: [3, 5, 10], &#x27;max_features&#x27;: [&#x27;sqrt&#x27;],\n",
       "                         &#x27;min_samples_leaf&#x27;: [3, 5],\n",
       "                         &#x27;min_samples_split&#x27;: [5, 10],\n",
       "                         &#x27;n_estimators&#x27;: [100, 200]},\n",
       "             verbose=20)</pre><b>In a Jupyter environment, please rerun this cell to show the HTML representation or trust the notebook. <br />On GitHub, the HTML representation is unable to render, please try loading this page with nbviewer.org.</b></div><div class=\"sk-container\" hidden><div class=\"sk-item sk-dashed-wrapped\"><div class=\"sk-label-container\"><div class=\"sk-label sk-toggleable\"><input class=\"sk-toggleable__control sk-hidden--visually\" id=\"sk-estimator-id-2\" type=\"checkbox\" ><label for=\"sk-estimator-id-2\" class=\"sk-toggleable__label sk-toggleable__label-arrow\">GridSearchCV</label><div class=\"sk-toggleable__content\"><pre>GridSearchCV(cv=3, estimator=GradientBoostingClassifier(random_state=5),\n",
       "             n_jobs=-1,\n",
       "             param_grid={&#x27;learning_rate&#x27;: [0.01, 0.1, 0.5],\n",
       "                         &#x27;max_depth&#x27;: [3, 5, 10], &#x27;max_features&#x27;: [&#x27;sqrt&#x27;],\n",
       "                         &#x27;min_samples_leaf&#x27;: [3, 5],\n",
       "                         &#x27;min_samples_split&#x27;: [5, 10],\n",
       "                         &#x27;n_estimators&#x27;: [100, 200]},\n",
       "             verbose=20)</pre></div></div></div><div class=\"sk-parallel\"><div class=\"sk-parallel-item\"><div class=\"sk-item\"><div class=\"sk-label-container\"><div class=\"sk-label sk-toggleable\"><input class=\"sk-toggleable__control sk-hidden--visually\" id=\"sk-estimator-id-3\" type=\"checkbox\" ><label for=\"sk-estimator-id-3\" class=\"sk-toggleable__label sk-toggleable__label-arrow\">estimator: GradientBoostingClassifier</label><div class=\"sk-toggleable__content\"><pre>GradientBoostingClassifier(random_state=5)</pre></div></div></div><div class=\"sk-serial\"><div class=\"sk-item\"><div class=\"sk-estimator sk-toggleable\"><input class=\"sk-toggleable__control sk-hidden--visually\" id=\"sk-estimator-id-4\" type=\"checkbox\" ><label for=\"sk-estimator-id-4\" class=\"sk-toggleable__label sk-toggleable__label-arrow\">GradientBoostingClassifier</label><div class=\"sk-toggleable__content\"><pre>GradientBoostingClassifier(random_state=5)</pre></div></div></div></div></div></div></div></div></div></div>"
      ],
      "text/plain": [
       "GridSearchCV(cv=3, estimator=GradientBoostingClassifier(random_state=5),\n",
       "             n_jobs=-1,\n",
       "             param_grid={'learning_rate': [0.01, 0.1, 0.5],\n",
       "                         'max_depth': [3, 5, 10], 'max_features': ['sqrt'],\n",
       "                         'min_samples_leaf': [3, 5],\n",
       "                         'min_samples_split': [5, 10],\n",
       "                         'n_estimators': [100, 200]},\n",
       "             verbose=20)"
      ]
     },
     "execution_count": 67,
     "metadata": {},
     "output_type": "execute_result"
    }
   ],
   "source": [
    "gb_Model.fit(X_train,y_train)"
   ]
  },
  {
   "cell_type": "code",
   "execution_count": 68,
   "metadata": {},
   "outputs": [
    {
     "data": {
      "text/html": [
       "<div>\n",
       "<style scoped>\n",
       "    .dataframe tbody tr th:only-of-type {\n",
       "        vertical-align: middle;\n",
       "    }\n",
       "\n",
       "    .dataframe tbody tr th {\n",
       "        vertical-align: top;\n",
       "    }\n",
       "\n",
       "    .dataframe thead th {\n",
       "        text-align: right;\n",
       "    }\n",
       "</style>\n",
       "<table border=\"1\" class=\"dataframe\">\n",
       "  <thead>\n",
       "    <tr style=\"text-align: right;\">\n",
       "      <th></th>\n",
       "      <th>mean_fit_time</th>\n",
       "      <th>std_fit_time</th>\n",
       "      <th>mean_score_time</th>\n",
       "      <th>std_score_time</th>\n",
       "      <th>param_learning_rate</th>\n",
       "      <th>param_max_depth</th>\n",
       "      <th>param_max_features</th>\n",
       "      <th>param_min_samples_leaf</th>\n",
       "      <th>param_min_samples_split</th>\n",
       "      <th>param_n_estimators</th>\n",
       "      <th>params</th>\n",
       "      <th>split0_test_score</th>\n",
       "      <th>split1_test_score</th>\n",
       "      <th>split2_test_score</th>\n",
       "      <th>mean_test_score</th>\n",
       "      <th>std_test_score</th>\n",
       "      <th>rank_test_score</th>\n",
       "    </tr>\n",
       "  </thead>\n",
       "  <tbody>\n",
       "    <tr>\n",
       "      <th>0</th>\n",
       "      <td>0.385798</td>\n",
       "      <td>0.010998</td>\n",
       "      <td>0.007498</td>\n",
       "      <td>0.001866</td>\n",
       "      <td>0.01</td>\n",
       "      <td>3</td>\n",
       "      <td>sqrt</td>\n",
       "      <td>3</td>\n",
       "      <td>5</td>\n",
       "      <td>100</td>\n",
       "      <td>{'learning_rate': 0.01, 'max_depth': 3, 'max_f...</td>\n",
       "      <td>0.714286</td>\n",
       "      <td>0.695193</td>\n",
       "      <td>0.709261</td>\n",
       "      <td>0.706247</td>\n",
       "      <td>0.008081</td>\n",
       "      <td>5</td>\n",
       "    </tr>\n",
       "    <tr>\n",
       "      <th>1</th>\n",
       "      <td>0.763993</td>\n",
       "      <td>0.011170</td>\n",
       "      <td>0.016214</td>\n",
       "      <td>0.006752</td>\n",
       "      <td>0.01</td>\n",
       "      <td>3</td>\n",
       "      <td>sqrt</td>\n",
       "      <td>3</td>\n",
       "      <td>5</td>\n",
       "      <td>200</td>\n",
       "      <td>{'learning_rate': 0.01, 'max_depth': 3, 'max_f...</td>\n",
       "      <td>0.716628</td>\n",
       "      <td>0.703400</td>\n",
       "      <td>0.710434</td>\n",
       "      <td>0.710154</td>\n",
       "      <td>0.005404</td>\n",
       "      <td>1</td>\n",
       "    </tr>\n",
       "    <tr>\n",
       "      <th>2</th>\n",
       "      <td>0.384015</td>\n",
       "      <td>0.015018</td>\n",
       "      <td>0.009236</td>\n",
       "      <td>0.001294</td>\n",
       "      <td>0.01</td>\n",
       "      <td>3</td>\n",
       "      <td>sqrt</td>\n",
       "      <td>3</td>\n",
       "      <td>10</td>\n",
       "      <td>100</td>\n",
       "      <td>{'learning_rate': 0.01, 'max_depth': 3, 'max_f...</td>\n",
       "      <td>0.714286</td>\n",
       "      <td>0.694021</td>\n",
       "      <td>0.709261</td>\n",
       "      <td>0.705856</td>\n",
       "      <td>0.008616</td>\n",
       "      <td>6</td>\n",
       "    </tr>\n",
       "    <tr>\n",
       "      <th>3</th>\n",
       "      <td>0.786623</td>\n",
       "      <td>0.019141</td>\n",
       "      <td>0.009703</td>\n",
       "      <td>0.001991</td>\n",
       "      <td>0.01</td>\n",
       "      <td>3</td>\n",
       "      <td>sqrt</td>\n",
       "      <td>3</td>\n",
       "      <td>10</td>\n",
       "      <td>200</td>\n",
       "      <td>{'learning_rate': 0.01, 'max_depth': 3, 'max_f...</td>\n",
       "      <td>0.716628</td>\n",
       "      <td>0.701055</td>\n",
       "      <td>0.711606</td>\n",
       "      <td>0.709763</td>\n",
       "      <td>0.006490</td>\n",
       "      <td>2</td>\n",
       "    </tr>\n",
       "    <tr>\n",
       "      <th>4</th>\n",
       "      <td>0.375305</td>\n",
       "      <td>0.005841</td>\n",
       "      <td>0.007953</td>\n",
       "      <td>0.001480</td>\n",
       "      <td>0.01</td>\n",
       "      <td>3</td>\n",
       "      <td>sqrt</td>\n",
       "      <td>5</td>\n",
       "      <td>5</td>\n",
       "      <td>100</td>\n",
       "      <td>{'learning_rate': 0.01, 'max_depth': 3, 'max_f...</td>\n",
       "      <td>0.713115</td>\n",
       "      <td>0.694021</td>\n",
       "      <td>0.709261</td>\n",
       "      <td>0.705466</td>\n",
       "      <td>0.008244</td>\n",
       "      <td>7</td>\n",
       "    </tr>\n",
       "    <tr>\n",
       "      <th>...</th>\n",
       "      <td>...</td>\n",
       "      <td>...</td>\n",
       "      <td>...</td>\n",
       "      <td>...</td>\n",
       "      <td>...</td>\n",
       "      <td>...</td>\n",
       "      <td>...</td>\n",
       "      <td>...</td>\n",
       "      <td>...</td>\n",
       "      <td>...</td>\n",
       "      <td>...</td>\n",
       "      <td>...</td>\n",
       "      <td>...</td>\n",
       "      <td>...</td>\n",
       "      <td>...</td>\n",
       "      <td>...</td>\n",
       "      <td>...</td>\n",
       "    </tr>\n",
       "    <tr>\n",
       "      <th>67</th>\n",
       "      <td>3.103452</td>\n",
       "      <td>0.279435</td>\n",
       "      <td>0.018049</td>\n",
       "      <td>0.002262</td>\n",
       "      <td>0.5</td>\n",
       "      <td>10</td>\n",
       "      <td>sqrt</td>\n",
       "      <td>3</td>\n",
       "      <td>10</td>\n",
       "      <td>200</td>\n",
       "      <td>{'learning_rate': 0.5, 'max_depth': 10, 'max_f...</td>\n",
       "      <td>0.667447</td>\n",
       "      <td>0.676436</td>\n",
       "      <td>0.674091</td>\n",
       "      <td>0.672658</td>\n",
       "      <td>0.003807</td>\n",
       "      <td>56</td>\n",
       "    </tr>\n",
       "    <tr>\n",
       "      <th>68</th>\n",
       "      <td>1.596573</td>\n",
       "      <td>0.039409</td>\n",
       "      <td>0.014342</td>\n",
       "      <td>0.002118</td>\n",
       "      <td>0.5</td>\n",
       "      <td>10</td>\n",
       "      <td>sqrt</td>\n",
       "      <td>5</td>\n",
       "      <td>5</td>\n",
       "      <td>100</td>\n",
       "      <td>{'learning_rate': 0.5, 'max_depth': 10, 'max_f...</td>\n",
       "      <td>0.681499</td>\n",
       "      <td>0.663540</td>\n",
       "      <td>0.678781</td>\n",
       "      <td>0.674607</td>\n",
       "      <td>0.007903</td>\n",
       "      <td>51</td>\n",
       "    </tr>\n",
       "    <tr>\n",
       "      <th>69</th>\n",
       "      <td>2.342106</td>\n",
       "      <td>0.040638</td>\n",
       "      <td>0.015482</td>\n",
       "      <td>0.000085</td>\n",
       "      <td>0.5</td>\n",
       "      <td>10</td>\n",
       "      <td>sqrt</td>\n",
       "      <td>5</td>\n",
       "      <td>5</td>\n",
       "      <td>200</td>\n",
       "      <td>{'learning_rate': 0.5, 'max_depth': 10, 'max_f...</td>\n",
       "      <td>0.681499</td>\n",
       "      <td>0.670574</td>\n",
       "      <td>0.682298</td>\n",
       "      <td>0.678124</td>\n",
       "      <td>0.005348</td>\n",
       "      <td>47</td>\n",
       "    </tr>\n",
       "    <tr>\n",
       "      <th>70</th>\n",
       "      <td>1.668369</td>\n",
       "      <td>0.296682</td>\n",
       "      <td>0.013167</td>\n",
       "      <td>0.001066</td>\n",
       "      <td>0.5</td>\n",
       "      <td>10</td>\n",
       "      <td>sqrt</td>\n",
       "      <td>5</td>\n",
       "      <td>10</td>\n",
       "      <td>100</td>\n",
       "      <td>{'learning_rate': 0.5, 'max_depth': 10, 'max_f...</td>\n",
       "      <td>0.681499</td>\n",
       "      <td>0.663540</td>\n",
       "      <td>0.678781</td>\n",
       "      <td>0.674607</td>\n",
       "      <td>0.007903</td>\n",
       "      <td>51</td>\n",
       "    </tr>\n",
       "    <tr>\n",
       "      <th>71</th>\n",
       "      <td>1.794476</td>\n",
       "      <td>0.118329</td>\n",
       "      <td>0.017062</td>\n",
       "      <td>0.002225</td>\n",
       "      <td>0.5</td>\n",
       "      <td>10</td>\n",
       "      <td>sqrt</td>\n",
       "      <td>5</td>\n",
       "      <td>10</td>\n",
       "      <td>200</td>\n",
       "      <td>{'learning_rate': 0.5, 'max_depth': 10, 'max_f...</td>\n",
       "      <td>0.681499</td>\n",
       "      <td>0.670574</td>\n",
       "      <td>0.682298</td>\n",
       "      <td>0.678124</td>\n",
       "      <td>0.005348</td>\n",
       "      <td>47</td>\n",
       "    </tr>\n",
       "  </tbody>\n",
       "</table>\n",
       "<p>72 rows × 17 columns</p>\n",
       "</div>"
      ],
      "text/plain": [
       "    mean_fit_time  std_fit_time  mean_score_time  std_score_time  \\\n",
       "0        0.385798      0.010998         0.007498        0.001866   \n",
       "1        0.763993      0.011170         0.016214        0.006752   \n",
       "2        0.384015      0.015018         0.009236        0.001294   \n",
       "3        0.786623      0.019141         0.009703        0.001991   \n",
       "4        0.375305      0.005841         0.007953        0.001480   \n",
       "..            ...           ...              ...             ...   \n",
       "67       3.103452      0.279435         0.018049        0.002262   \n",
       "68       1.596573      0.039409         0.014342        0.002118   \n",
       "69       2.342106      0.040638         0.015482        0.000085   \n",
       "70       1.668369      0.296682         0.013167        0.001066   \n",
       "71       1.794476      0.118329         0.017062        0.002225   \n",
       "\n",
       "   param_learning_rate param_max_depth param_max_features  \\\n",
       "0                 0.01               3               sqrt   \n",
       "1                 0.01               3               sqrt   \n",
       "2                 0.01               3               sqrt   \n",
       "3                 0.01               3               sqrt   \n",
       "4                 0.01               3               sqrt   \n",
       "..                 ...             ...                ...   \n",
       "67                 0.5              10               sqrt   \n",
       "68                 0.5              10               sqrt   \n",
       "69                 0.5              10               sqrt   \n",
       "70                 0.5              10               sqrt   \n",
       "71                 0.5              10               sqrt   \n",
       "\n",
       "   param_min_samples_leaf param_min_samples_split param_n_estimators  \\\n",
       "0                       3                       5                100   \n",
       "1                       3                       5                200   \n",
       "2                       3                      10                100   \n",
       "3                       3                      10                200   \n",
       "4                       5                       5                100   \n",
       "..                    ...                     ...                ...   \n",
       "67                      3                      10                200   \n",
       "68                      5                       5                100   \n",
       "69                      5                       5                200   \n",
       "70                      5                      10                100   \n",
       "71                      5                      10                200   \n",
       "\n",
       "                                               params  split0_test_score  \\\n",
       "0   {'learning_rate': 0.01, 'max_depth': 3, 'max_f...           0.714286   \n",
       "1   {'learning_rate': 0.01, 'max_depth': 3, 'max_f...           0.716628   \n",
       "2   {'learning_rate': 0.01, 'max_depth': 3, 'max_f...           0.714286   \n",
       "3   {'learning_rate': 0.01, 'max_depth': 3, 'max_f...           0.716628   \n",
       "4   {'learning_rate': 0.01, 'max_depth': 3, 'max_f...           0.713115   \n",
       "..                                                ...                ...   \n",
       "67  {'learning_rate': 0.5, 'max_depth': 10, 'max_f...           0.667447   \n",
       "68  {'learning_rate': 0.5, 'max_depth': 10, 'max_f...           0.681499   \n",
       "69  {'learning_rate': 0.5, 'max_depth': 10, 'max_f...           0.681499   \n",
       "70  {'learning_rate': 0.5, 'max_depth': 10, 'max_f...           0.681499   \n",
       "71  {'learning_rate': 0.5, 'max_depth': 10, 'max_f...           0.681499   \n",
       "\n",
       "    split1_test_score  split2_test_score  mean_test_score  std_test_score  \\\n",
       "0            0.695193           0.709261         0.706247        0.008081   \n",
       "1            0.703400           0.710434         0.710154        0.005404   \n",
       "2            0.694021           0.709261         0.705856        0.008616   \n",
       "3            0.701055           0.711606         0.709763        0.006490   \n",
       "4            0.694021           0.709261         0.705466        0.008244   \n",
       "..                ...                ...              ...             ...   \n",
       "67           0.676436           0.674091         0.672658        0.003807   \n",
       "68           0.663540           0.678781         0.674607        0.007903   \n",
       "69           0.670574           0.682298         0.678124        0.005348   \n",
       "70           0.663540           0.678781         0.674607        0.007903   \n",
       "71           0.670574           0.682298         0.678124        0.005348   \n",
       "\n",
       "    rank_test_score  \n",
       "0                 5  \n",
       "1                 1  \n",
       "2                 6  \n",
       "3                 2  \n",
       "4                 7  \n",
       "..              ...  \n",
       "67               56  \n",
       "68               51  \n",
       "69               47  \n",
       "70               51  \n",
       "71               47  \n",
       "\n",
       "[72 rows x 17 columns]"
      ]
     },
     "execution_count": 68,
     "metadata": {},
     "output_type": "execute_result"
    }
   ],
   "source": [
    "pd.DataFrame(gb_Model.cv_results_)"
   ]
  },
  {
   "cell_type": "code",
   "execution_count": 69,
   "metadata": {},
   "outputs": [],
   "source": [
    "best_gb_model = gb_Model.best_estimator_"
   ]
  },
  {
   "cell_type": "code",
   "execution_count": 70,
   "metadata": {},
   "outputs": [
    {
     "data": {
      "text/html": [
       "<style>#sk-container-id-3 {color: black;background-color: white;}#sk-container-id-3 pre{padding: 0;}#sk-container-id-3 div.sk-toggleable {background-color: white;}#sk-container-id-3 label.sk-toggleable__label {cursor: pointer;display: block;width: 100%;margin-bottom: 0;padding: 0.3em;box-sizing: border-box;text-align: center;}#sk-container-id-3 label.sk-toggleable__label-arrow:before {content: \"▸\";float: left;margin-right: 0.25em;color: #696969;}#sk-container-id-3 label.sk-toggleable__label-arrow:hover:before {color: black;}#sk-container-id-3 div.sk-estimator:hover label.sk-toggleable__label-arrow:before {color: black;}#sk-container-id-3 div.sk-toggleable__content {max-height: 0;max-width: 0;overflow: hidden;text-align: left;background-color: #f0f8ff;}#sk-container-id-3 div.sk-toggleable__content pre {margin: 0.2em;color: black;border-radius: 0.25em;background-color: #f0f8ff;}#sk-container-id-3 input.sk-toggleable__control:checked~div.sk-toggleable__content {max-height: 200px;max-width: 100%;overflow: auto;}#sk-container-id-3 input.sk-toggleable__control:checked~label.sk-toggleable__label-arrow:before {content: \"▾\";}#sk-container-id-3 div.sk-estimator input.sk-toggleable__control:checked~label.sk-toggleable__label {background-color: #d4ebff;}#sk-container-id-3 div.sk-label input.sk-toggleable__control:checked~label.sk-toggleable__label {background-color: #d4ebff;}#sk-container-id-3 input.sk-hidden--visually {border: 0;clip: rect(1px 1px 1px 1px);clip: rect(1px, 1px, 1px, 1px);height: 1px;margin: -1px;overflow: hidden;padding: 0;position: absolute;width: 1px;}#sk-container-id-3 div.sk-estimator {font-family: monospace;background-color: #f0f8ff;border: 1px dotted black;border-radius: 0.25em;box-sizing: border-box;margin-bottom: 0.5em;}#sk-container-id-3 div.sk-estimator:hover {background-color: #d4ebff;}#sk-container-id-3 div.sk-parallel-item::after {content: \"\";width: 100%;border-bottom: 1px solid gray;flex-grow: 1;}#sk-container-id-3 div.sk-label:hover label.sk-toggleable__label {background-color: #d4ebff;}#sk-container-id-3 div.sk-serial::before {content: \"\";position: absolute;border-left: 1px solid gray;box-sizing: border-box;top: 0;bottom: 0;left: 50%;z-index: 0;}#sk-container-id-3 div.sk-serial {display: flex;flex-direction: column;align-items: center;background-color: white;padding-right: 0.2em;padding-left: 0.2em;position: relative;}#sk-container-id-3 div.sk-item {position: relative;z-index: 1;}#sk-container-id-3 div.sk-parallel {display: flex;align-items: stretch;justify-content: center;background-color: white;position: relative;}#sk-container-id-3 div.sk-item::before, #sk-container-id-3 div.sk-parallel-item::before {content: \"\";position: absolute;border-left: 1px solid gray;box-sizing: border-box;top: 0;bottom: 0;left: 50%;z-index: -1;}#sk-container-id-3 div.sk-parallel-item {display: flex;flex-direction: column;z-index: 1;position: relative;background-color: white;}#sk-container-id-3 div.sk-parallel-item:first-child::after {align-self: flex-end;width: 50%;}#sk-container-id-3 div.sk-parallel-item:last-child::after {align-self: flex-start;width: 50%;}#sk-container-id-3 div.sk-parallel-item:only-child::after {width: 0;}#sk-container-id-3 div.sk-dashed-wrapped {border: 1px dashed gray;margin: 0 0.4em 0.5em 0.4em;box-sizing: border-box;padding-bottom: 0.4em;background-color: white;}#sk-container-id-3 div.sk-label label {font-family: monospace;font-weight: bold;display: inline-block;line-height: 1.2em;}#sk-container-id-3 div.sk-label-container {text-align: center;}#sk-container-id-3 div.sk-container {/* jupyter's `normalize.less` sets `[hidden] { display: none; }` but bootstrap.min.css set `[hidden] { display: none !important; }` so we also need the `!important` here to be able to override the default hidden behavior on the sphinx rendered scikit-learn.org. See: https://github.com/scikit-learn/scikit-learn/issues/21755 */display: inline-block !important;position: relative;}#sk-container-id-3 div.sk-text-repr-fallback {display: none;}</style><div id=\"sk-container-id-3\" class=\"sk-top-container\"><div class=\"sk-text-repr-fallback\"><pre>GradientBoostingClassifier(learning_rate=0.01, max_features=&#x27;sqrt&#x27;,\n",
       "                           min_samples_leaf=3, min_samples_split=5,\n",
       "                           n_estimators=200, random_state=5)</pre><b>In a Jupyter environment, please rerun this cell to show the HTML representation or trust the notebook. <br />On GitHub, the HTML representation is unable to render, please try loading this page with nbviewer.org.</b></div><div class=\"sk-container\" hidden><div class=\"sk-item\"><div class=\"sk-estimator sk-toggleable\"><input class=\"sk-toggleable__control sk-hidden--visually\" id=\"sk-estimator-id-5\" type=\"checkbox\" checked><label for=\"sk-estimator-id-5\" class=\"sk-toggleable__label sk-toggleable__label-arrow\">GradientBoostingClassifier</label><div class=\"sk-toggleable__content\"><pre>GradientBoostingClassifier(learning_rate=0.01, max_features=&#x27;sqrt&#x27;,\n",
       "                           min_samples_leaf=3, min_samples_split=5,\n",
       "                           n_estimators=200, random_state=5)</pre></div></div></div></div></div>"
      ],
      "text/plain": [
       "GradientBoostingClassifier(learning_rate=0.01, max_features='sqrt',\n",
       "                           min_samples_leaf=3, min_samples_split=5,\n",
       "                           n_estimators=200, random_state=5)"
      ]
     },
     "execution_count": 70,
     "metadata": {},
     "output_type": "execute_result"
    }
   ],
   "source": [
    "best_gb_model"
   ]
  },
  {
   "cell_type": "markdown",
   "metadata": {},
   "source": [
    "============================================================================================================================"
   ]
  },
  {
   "cell_type": "markdown",
   "metadata": {},
   "source": [
    "# Optimized Model"
   ]
  },
  {
   "cell_type": "code",
   "execution_count": 73,
   "metadata": {},
   "outputs": [
    {
     "data": {
      "text/html": [
       "<style>#sk-container-id-5 {color: black;background-color: white;}#sk-container-id-5 pre{padding: 0;}#sk-container-id-5 div.sk-toggleable {background-color: white;}#sk-container-id-5 label.sk-toggleable__label {cursor: pointer;display: block;width: 100%;margin-bottom: 0;padding: 0.3em;box-sizing: border-box;text-align: center;}#sk-container-id-5 label.sk-toggleable__label-arrow:before {content: \"▸\";float: left;margin-right: 0.25em;color: #696969;}#sk-container-id-5 label.sk-toggleable__label-arrow:hover:before {color: black;}#sk-container-id-5 div.sk-estimator:hover label.sk-toggleable__label-arrow:before {color: black;}#sk-container-id-5 div.sk-toggleable__content {max-height: 0;max-width: 0;overflow: hidden;text-align: left;background-color: #f0f8ff;}#sk-container-id-5 div.sk-toggleable__content pre {margin: 0.2em;color: black;border-radius: 0.25em;background-color: #f0f8ff;}#sk-container-id-5 input.sk-toggleable__control:checked~div.sk-toggleable__content {max-height: 200px;max-width: 100%;overflow: auto;}#sk-container-id-5 input.sk-toggleable__control:checked~label.sk-toggleable__label-arrow:before {content: \"▾\";}#sk-container-id-5 div.sk-estimator input.sk-toggleable__control:checked~label.sk-toggleable__label {background-color: #d4ebff;}#sk-container-id-5 div.sk-label input.sk-toggleable__control:checked~label.sk-toggleable__label {background-color: #d4ebff;}#sk-container-id-5 input.sk-hidden--visually {border: 0;clip: rect(1px 1px 1px 1px);clip: rect(1px, 1px, 1px, 1px);height: 1px;margin: -1px;overflow: hidden;padding: 0;position: absolute;width: 1px;}#sk-container-id-5 div.sk-estimator {font-family: monospace;background-color: #f0f8ff;border: 1px dotted black;border-radius: 0.25em;box-sizing: border-box;margin-bottom: 0.5em;}#sk-container-id-5 div.sk-estimator:hover {background-color: #d4ebff;}#sk-container-id-5 div.sk-parallel-item::after {content: \"\";width: 100%;border-bottom: 1px solid gray;flex-grow: 1;}#sk-container-id-5 div.sk-label:hover label.sk-toggleable__label {background-color: #d4ebff;}#sk-container-id-5 div.sk-serial::before {content: \"\";position: absolute;border-left: 1px solid gray;box-sizing: border-box;top: 0;bottom: 0;left: 50%;z-index: 0;}#sk-container-id-5 div.sk-serial {display: flex;flex-direction: column;align-items: center;background-color: white;padding-right: 0.2em;padding-left: 0.2em;position: relative;}#sk-container-id-5 div.sk-item {position: relative;z-index: 1;}#sk-container-id-5 div.sk-parallel {display: flex;align-items: stretch;justify-content: center;background-color: white;position: relative;}#sk-container-id-5 div.sk-item::before, #sk-container-id-5 div.sk-parallel-item::before {content: \"\";position: absolute;border-left: 1px solid gray;box-sizing: border-box;top: 0;bottom: 0;left: 50%;z-index: -1;}#sk-container-id-5 div.sk-parallel-item {display: flex;flex-direction: column;z-index: 1;position: relative;background-color: white;}#sk-container-id-5 div.sk-parallel-item:first-child::after {align-self: flex-end;width: 50%;}#sk-container-id-5 div.sk-parallel-item:last-child::after {align-self: flex-start;width: 50%;}#sk-container-id-5 div.sk-parallel-item:only-child::after {width: 0;}#sk-container-id-5 div.sk-dashed-wrapped {border: 1px dashed gray;margin: 0 0.4em 0.5em 0.4em;box-sizing: border-box;padding-bottom: 0.4em;background-color: white;}#sk-container-id-5 div.sk-label label {font-family: monospace;font-weight: bold;display: inline-block;line-height: 1.2em;}#sk-container-id-5 div.sk-label-container {text-align: center;}#sk-container-id-5 div.sk-container {/* jupyter's `normalize.less` sets `[hidden] { display: none; }` but bootstrap.min.css set `[hidden] { display: none !important; }` so we also need the `!important` here to be able to override the default hidden behavior on the sphinx rendered scikit-learn.org. See: https://github.com/scikit-learn/scikit-learn/issues/21755 */display: inline-block !important;position: relative;}#sk-container-id-5 div.sk-text-repr-fallback {display: none;}</style><div id=\"sk-container-id-5\" class=\"sk-top-container\"><div class=\"sk-text-repr-fallback\"><pre>GradientBoostingClassifier(learning_rate=0.01, max_features=&#x27;sqrt&#x27;,\n",
       "                           min_samples_leaf=3, min_samples_split=5,\n",
       "                           n_estimators=200, random_state=5)</pre><b>In a Jupyter environment, please rerun this cell to show the HTML representation or trust the notebook. <br />On GitHub, the HTML representation is unable to render, please try loading this page with nbviewer.org.</b></div><div class=\"sk-container\" hidden><div class=\"sk-item\"><div class=\"sk-estimator sk-toggleable\"><input class=\"sk-toggleable__control sk-hidden--visually\" id=\"sk-estimator-id-7\" type=\"checkbox\" checked><label for=\"sk-estimator-id-7\" class=\"sk-toggleable__label sk-toggleable__label-arrow\">GradientBoostingClassifier</label><div class=\"sk-toggleable__content\"><pre>GradientBoostingClassifier(learning_rate=0.01, max_features=&#x27;sqrt&#x27;,\n",
       "                           min_samples_leaf=3, min_samples_split=5,\n",
       "                           n_estimators=200, random_state=5)</pre></div></div></div></div></div>"
      ],
      "text/plain": [
       "GradientBoostingClassifier(learning_rate=0.01, max_features='sqrt',\n",
       "                           min_samples_leaf=3, min_samples_split=5,\n",
       "                           n_estimators=200, random_state=5)"
      ]
     },
     "execution_count": 73,
     "metadata": {},
     "output_type": "execute_result"
    }
   ],
   "source": [
    "gb2 = GradientBoostingClassifier(learning_rate=0.01, max_features='sqrt',\n",
    "                           min_samples_leaf=3, min_samples_split=5,\n",
    "                           n_estimators=200, random_state=5)\n",
    "\n",
    "gb2.fit(X_train, np.ravel(y_train))"
   ]
  },
  {
   "cell_type": "code",
   "execution_count": 74,
   "metadata": {},
   "outputs": [],
   "source": [
    "Optimized_predictions = gb2.predict(X_test)"
   ]
  },
  {
   "cell_type": "code",
   "execution_count": 76,
   "metadata": {},
   "outputs": [
    {
     "name": "stderr",
     "output_type": "stream",
     "text": [
      "c:\\Users\\omara\\anaconda3\\lib\\site-packages\\sklearn\\base.py:450: UserWarning: X does not have valid feature names, but GradientBoostingClassifier was fitted with feature names\n",
      "  warnings.warn(\n",
      "c:\\Users\\omara\\anaconda3\\lib\\site-packages\\sklearn\\base.py:450: UserWarning: X does not have valid feature names, but GradientBoostingClassifier was fitted with feature names\n",
      "  warnings.warn(\n",
      "c:\\Users\\omara\\anaconda3\\lib\\site-packages\\sklearn\\base.py:450: UserWarning: X does not have valid feature names, but GradientBoostingClassifier was fitted with feature names\n",
      "  warnings.warn(\n",
      "c:\\Users\\omara\\anaconda3\\lib\\site-packages\\sklearn\\base.py:450: UserWarning: X does not have valid feature names, but GradientBoostingClassifier was fitted with feature names\n",
      "  warnings.warn(\n"
     ]
    },
    {
     "data": {
      "image/png": "[encoded data removed]",
      "text/plain": [
       "<Figure size 800x500 with 1 Axes>"
      ]
     },
     "metadata": {},
     "output_type": "display_data"
    }
   ],
   "source": [
    "with plt.style.context('default'):    \n",
    "    fpr, tpr, _ = roc_curve(y_test, gb2.predict_proba(X_test.values)[:,1]) \n",
    "    plt.figure(figsize=(8,5))\n",
    "    plt.plot([0, 1], [0, 1], 'k--')\n",
    "    plt.plot(fpr, tpr, label=\"test\")\n",
    "\n",
    "    fpr_train, tpr_train, _ = roc_curve(y_train, gb2.predict_proba(X_train.values)[:,1])\n",
    "    plt.plot(fpr_train, tpr_train, label=\"train\")\n",
    "    auc_test = roc_auc_score(y_test, gb2.predict_proba(X_test.values)[:,1])\n",
    "    auc_train = roc_auc_score(y_train, gb2.predict_proba(X_train.values)[:,1])\n",
    "    plt.legend()\n",
    "    plt.title('AUC score is %.2f on test and %.2f on training'%(auc_test, auc_train))\n",
    "    plt.show()"
   ]
  },
  {
   "cell_type": "code",
   "execution_count": 77,
   "metadata": {},
   "outputs": [
    {
     "name": "stderr",
     "output_type": "stream",
     "text": [
      "c:\\Users\\omara\\anaconda3\\lib\\site-packages\\sklearn\\base.py:450: UserWarning: X does not have valid feature names, but GradientBoostingClassifier was fitted with feature names\n",
      "  warnings.warn(\n"
     ]
    },
    {
     "data": {
      "image/png": "[encoded data removed]",
      "text/plain": [
       "<Figure size 800x500 with 2 Axes>"
      ]
     },
     "metadata": {},
     "output_type": "display_data"
    }
   ],
   "source": [
    "with plt.style.context('default'):    \n",
    "    plt.figure(figsize=(8, 5))\n",
    "    cm = confusion_matrix(y_test, gb2.predict(X_test.values))\n",
    "    sns.heatmap(cm, annot=True, fmt=\"d\")"
   ]
  },
  {
   "cell_type": "markdown",
   "metadata": {},
   "source": [
    "============================================================================================================================"
   ]
  },
  {
   "cell_type": "code",
   "execution_count": 79,
   "metadata": {},
   "outputs": [],
   "source": [
    "with open('gb_V2.pkl', 'wb') as f:\n",
    "    pickle.dump(gb, f)"
   ]
  },
  {
   "cell_type": "markdown",
   "metadata": {},
   "source": [
    "============================================================================================================================"
   ]
  },
  {
   "cell_type": "markdown",
   "metadata": {},
   "source": [
    "# Starting World Cup Simulation"
   ]
  },
  {
   "cell_type": "code",
   "execution_count": 80,
   "metadata": {},
   "outputs": [],
   "source": [
    "with open('PredictionModel.pkl' , 'rb') as f:\n",
    "    gb = pickle.load(f)"
   ]
  },
  {
   "cell_type": "code",
   "execution_count": 108,
   "metadata": {},
   "outputs": [],
   "source": [
    "tables = {'A': [['Qatar', 0, []],\n",
    "  ['Ecuador', 0, []],\n",
    "  ['Senegal', 0, []],\n",
    "  ['Netherlands', 0, []]],\n",
    " 'B': [['England', 0, []],\n",
    "  ['Iran', 0, []],\n",
    "  ['United States', 0, []],\n",
    "  ['Wales', 0, []]],\n",
    " 'C': [['Argentina', 0, []],\n",
    "  ['Saudi Arabia', 0, []],\n",
    "  ['Mexico', 0, []],\n",
    "  ['Poland', 0, []]],\n",
    " 'D': [['France', 0, []],\n",
    "  ['Australia', 0, []],\n",
    "  ['Denmark', 0, []],\n",
    "  ['Tunisia', 0, []]],\n",
    " 'E': [['Spain', 0, []],\n",
    "  ['Costa Rica', 0, []],\n",
    "  ['Germany', 0, []],\n",
    "  ['Japan', 0, []]],\n",
    " 'F': [['Belgium', 0, []],\n",
    "  ['Canada', 0, []],\n",
    "  ['Morocco', 0, []],\n",
    "  ['Croatia', 0, []]],\n",
    " 'G': [['Brazil', 0, []],\n",
    "  ['Serbia', 0, []],\n",
    "  ['Switzerland', 0, []],\n",
    "  ['Cameroon', 0, []]],\n",
    " 'H': [['Portugal', 0, []],\n",
    "  ['Ghana', 0, []],\n",
    "  ['Uruguay', 0, []],\n",
    "  ['South Korea', 0, []]]}"
   ]
  },
  {
   "cell_type": "code",
   "execution_count": 94,
   "metadata": {},
   "outputs": [],
   "source": [
    "matches = [('A', 'Qatar', 'Ecuador'),\n",
    " ('A', 'Netherlands', 'Senegal'),\n",
    " ('A', 'Qatar', 'Senegal'),\n",
    " ('A', 'Netherlands', 'Ecuador'),\n",
    " ('A', 'Ecuador', 'Senegal'),\n",
    " ('A', 'Netherlands', 'Qatar'),\n",
    " ('B', 'England', 'Iran'),\n",
    " ('B', 'United States', 'Wales'),\n",
    " ('B', 'Wales', 'Iran'),\n",
    " ('B', 'England', 'United States'),\n",
    " ('B', 'Wales', 'England'),\n",
    " ('B', 'Iran', 'United States'),\n",
    " ('C', 'Argentina', 'Saudi Arabia'),\n",
    " ('C', 'Mexico', 'Poland'),\n",
    " ('C', 'Poland', 'Saudi Arabia'),\n",
    " ('C', 'Argentina', 'Mexico'),\n",
    " ('C', 'Poland', 'Argentina'),\n",
    " ('C', 'Saudi Arabia', 'Mexico'),\n",
    " ('D', 'Denmark', 'Tunisia'),\n",
    " ('D', 'France', 'Australia'),\n",
    " ('D', 'Tunisia', 'Australia'),\n",
    " ('D', 'France', 'Denmark'),\n",
    " ('D', 'Australia', 'Denmark'),\n",
    " ('D', 'Tunisia', 'France'),\n",
    " ('E', 'Germany', 'Japan'),\n",
    " ('E', 'Spain', 'Costa Rica'),\n",
    " ('E', 'Japan', 'Costa Rica'),\n",
    " ('E', 'Spain', 'Germany'),\n",
    " ('E', 'Japan', 'Spain'),\n",
    " ('E', 'Costa Rica', 'Germany'),\n",
    " ('F', 'Morocco', 'Croatia'),\n",
    " ('F', 'Belgium', 'Canada'),\n",
    " ('F', 'Belgium', 'Morocco'),\n",
    " ('F', 'Croatia', 'Canada'),\n",
    " ('F', 'Croatia', 'Belgium'),\n",
    " ('F', 'Canada', 'Morocco'),\n",
    " ('G', 'Switzerland', 'Cameroon'),\n",
    " ('G', 'Brazil', 'Serbia'),\n",
    " ('G', 'Cameroon', 'Serbia'),\n",
    " ('G', 'Brazil', 'Switzerland'),\n",
    " ('G', 'Serbia', 'Switzerland'),\n",
    " ('G', 'Cameroon', 'Brazil'),\n",
    " ('H', 'Uruguay', 'South Korea'),\n",
    " ('H', 'Portugal', 'Ghana'),\n",
    " ('H', 'South Korea', 'Ghana'),\n",
    " ('H', 'Portugal', 'Uruguay'),\n",
    " ('H', 'Ghana', 'Uruguay'),\n",
    " ('H', 'South Korea', 'Portugal')]"
   ]
  },
  {
   "cell_type": "code",
   "execution_count": 96,
   "metadata": {},
   "outputs": [
    {
     "data": {
      "text/plain": [
       "[('A', 'Qatar', 'Ecuador'),\n",
       " ('A', 'Netherlands', 'Senegal'),\n",
       " ('A', 'Qatar', 'Senegal'),\n",
       " ('A', 'Netherlands', 'Ecuador'),\n",
       " ('A', 'Ecuador', 'Senegal')]"
      ]
     },
     "execution_count": 96,
     "metadata": {},
     "output_type": "execute_result"
    }
   ],
   "source": [
    "matches[:5]"
   ]
  },
  {
   "cell_type": "code",
   "execution_count": 98,
   "metadata": {},
   "outputs": [],
   "source": [
    "base_df = pd.read_csv(\"team_stats.csv\")"
   ]
  },
  {
   "cell_type": "code",
   "execution_count": 99,
   "metadata": {},
   "outputs": [],
   "source": [
    "def find_stats(team_1):\n",
    "#team_1 = \"Qatar\"\n",
    "    past_games = base_df[(base_df[\"team\"] == team_1)].sort_values(\"date\")\n",
    "    last5 = base_df[(base_df[\"team\"] == team_1)].sort_values(\"date\").tail(5)\n",
    "\n",
    "    team_1_rank = past_games[\"rank\"].values[-1]\n",
    "    team_1_goals = past_games.score.mean()\n",
    "    team_1_goals_l5 = last5.score.mean()\n",
    "    team_1_goals_suf = past_games.suf_score.mean()\n",
    "    team_1_goals_suf_l5 = last5.suf_score.mean()\n",
    "    team_1_rank_suf = past_games.rank_suf.mean()\n",
    "    team_1_rank_suf_l5 = last5.rank_suf.mean()\n",
    "    team_1_gp_rank = past_games.points_by_rank.mean()\n",
    "    team_1_gp_rank_l5 = last5.points_by_rank.mean()\n",
    "\n",
    "    return [team_1_rank, team_1_goals, team_1_goals_l5, team_1_goals_suf, team_1_goals_suf_l5, team_1_rank_suf, team_1_rank_suf_l5, team_1_gp_rank, team_1_gp_rank_l5]"
   ]
  },
  {
   "cell_type": "code",
   "execution_count": 100,
   "metadata": {},
   "outputs": [],
   "source": [
    "def find_features(team_1, team_2):\n",
    "    rank_dif = team_1[0] - team_2[0]\n",
    "    goals_dif = team_1[1] - team_2[1]\n",
    "    goals_dif_l5 = team_1[2] - team_2[2]\n",
    "    goals_suf_dif = team_1[3] - team_2[3]\n",
    "    goals_suf_dif_l5 = team_1[4] - team_2[4]\n",
    "    goals_per_ranking_dif = (team_1[1]/team_1[5]) - (team_2[1]/team_2[5])\n",
    "    dif_rank_agst = team_1[5] - team_2[5]\n",
    "    dif_rank_agst_l5 = team_1[6] - team_2[6]\n",
    "    dif_gp_rank = team_1[7] - team_2[7]\n",
    "    dif_gp_rank_l5 = team_1[8] - team_2[8]\n",
    "    \n",
    "    return [rank_dif, goals_dif, goals_dif_l5, goals_suf_dif, goals_suf_dif_l5, goals_per_ranking_dif, dif_rank_agst, dif_rank_agst_l5, dif_gp_rank, dif_gp_rank_l5, 1, 0]"
   ]
  },
  {
   "cell_type": "code",
   "execution_count": 109,
   "metadata": {},
   "outputs": [
    {
     "data": {
      "text/plain": [
       "{'A': [['Qatar', 0, []],\n",
       "  ['Ecuador', 0, []],\n",
       "  ['Senegal', 0, []],\n",
       "  ['Netherlands', 0, []]],\n",
       " 'B': [['England', 0, []],\n",
       "  ['Iran', 0, []],\n",
       "  ['United States', 0, []],\n",
       "  ['Wales', 0, []]],\n",
       " 'C': [['Argentina', 0, []],\n",
       "  ['Saudi Arabia', 0, []],\n",
       "  ['Mexico', 0, []],\n",
       "  ['Poland', 0, []]],\n",
       " 'D': [['France', 0, []],\n",
       "  ['Australia', 0, []],\n",
       "  ['Denmark', 0, []],\n",
       "  ['Tunisia', 0, []]],\n",
       " 'E': [['Spain', 0, []],\n",
       "  ['Costa Rica', 0, []],\n",
       "  ['Germany', 0, []],\n",
       "  ['Japan', 0, []]],\n",
       " 'F': [['Belgium', 0, []],\n",
       "  ['Canada', 0, []],\n",
       "  ['Morocco', 0, []],\n",
       "  ['Croatia', 0, []]],\n",
       " 'G': [['Brazil', 0, []],\n",
       "  ['Serbia', 0, []],\n",
       "  ['Switzerland', 0, []],\n",
       "  ['Cameroon', 0, []]],\n",
       " 'H': [['Portugal', 0, []],\n",
       "  ['Ghana', 0, []],\n",
       "  ['Uruguay', 0, []],\n",
       "  ['South Korea', 0, []]]}"
      ]
     },
     "execution_count": 109,
     "metadata": {},
     "output_type": "execute_result"
    }
   ],
   "source": [
    "tables"
   ]
  },
  {
   "cell_type": "code",
   "execution_count": 110,
   "metadata": {},
   "outputs": [
    {
     "name": "stderr",
     "output_type": "stream",
     "text": [
      "c:\\Users\\omara\\anaconda3\\lib\\site-packages\\sklearn\\base.py:450: UserWarning: X does not have valid feature names, but GradientBoostingClassifier was fitted with feature names\n",
      "  warnings.warn(\n",
      "c:\\Users\\omara\\anaconda3\\lib\\site-packages\\sklearn\\base.py:450: UserWarning: X does not have valid feature names, but GradientBoostingClassifier was fitted with feature names\n",
      "  warnings.warn(\n",
      "c:\\Users\\omara\\anaconda3\\lib\\site-packages\\sklearn\\base.py:450: UserWarning: X does not have valid feature names, but GradientBoostingClassifier was fitted with feature names\n",
      "  warnings.warn(\n",
      "c:\\Users\\omara\\anaconda3\\lib\\site-packages\\sklearn\\base.py:450: UserWarning: X does not have valid feature names, but GradientBoostingClassifier was fitted with feature names\n",
      "  warnings.warn(\n",
      "c:\\Users\\omara\\anaconda3\\lib\\site-packages\\sklearn\\base.py:450: UserWarning: X does not have valid feature names, but GradientBoostingClassifier was fitted with feature names\n",
      "  warnings.warn(\n",
      "c:\\Users\\omara\\anaconda3\\lib\\site-packages\\sklearn\\base.py:450: UserWarning: X does not have valid feature names, but GradientBoostingClassifier was fitted with feature names\n",
      "  warnings.warn(\n",
      "c:\\Users\\omara\\anaconda3\\lib\\site-packages\\sklearn\\base.py:450: UserWarning: X does not have valid feature names, but GradientBoostingClassifier was fitted with feature names\n",
      "  warnings.warn(\n",
      "c:\\Users\\omara\\anaconda3\\lib\\site-packages\\sklearn\\base.py:450: UserWarning: X does not have valid feature names, but GradientBoostingClassifier was fitted with feature names\n",
      "  warnings.warn(\n",
      "c:\\Users\\omara\\anaconda3\\lib\\site-packages\\sklearn\\base.py:450: UserWarning: X does not have valid feature names, but GradientBoostingClassifier was fitted with feature names\n",
      "  warnings.warn(\n",
      "c:\\Users\\omara\\anaconda3\\lib\\site-packages\\sklearn\\base.py:450: UserWarning: X does not have valid feature names, but GradientBoostingClassifier was fitted with feature names\n",
      "  warnings.warn(\n",
      "c:\\Users\\omara\\anaconda3\\lib\\site-packages\\sklearn\\base.py:450: UserWarning: X does not have valid feature names, but GradientBoostingClassifier was fitted with feature names\n",
      "  warnings.warn(\n",
      "c:\\Users\\omara\\anaconda3\\lib\\site-packages\\sklearn\\base.py:450: UserWarning: X does not have valid feature names, but GradientBoostingClassifier was fitted with feature names\n",
      "  warnings.warn(\n",
      "c:\\Users\\omara\\anaconda3\\lib\\site-packages\\sklearn\\base.py:450: UserWarning: X does not have valid feature names, but GradientBoostingClassifier was fitted with feature names\n",
      "  warnings.warn(\n",
      "c:\\Users\\omara\\anaconda3\\lib\\site-packages\\sklearn\\base.py:450: UserWarning: X does not have valid feature names, but GradientBoostingClassifier was fitted with feature names\n",
      "  warnings.warn(\n",
      "c:\\Users\\omara\\anaconda3\\lib\\site-packages\\sklearn\\base.py:450: UserWarning: X does not have valid feature names, but GradientBoostingClassifier was fitted with feature names\n",
      "  warnings.warn(\n",
      "c:\\Users\\omara\\anaconda3\\lib\\site-packages\\sklearn\\base.py:450: UserWarning: X does not have valid feature names, but GradientBoostingClassifier was fitted with feature names\n",
      "  warnings.warn(\n",
      "c:\\Users\\omara\\anaconda3\\lib\\site-packages\\sklearn\\base.py:450: UserWarning: X does not have valid feature names, but GradientBoostingClassifier was fitted with feature names\n",
      "  warnings.warn(\n",
      "c:\\Users\\omara\\anaconda3\\lib\\site-packages\\sklearn\\base.py:450: UserWarning: X does not have valid feature names, but GradientBoostingClassifier was fitted with feature names\n",
      "  warnings.warn(\n",
      "c:\\Users\\omara\\anaconda3\\lib\\site-packages\\sklearn\\base.py:450: UserWarning: X does not have valid feature names, but GradientBoostingClassifier was fitted with feature names\n",
      "  warnings.warn(\n",
      "c:\\Users\\omara\\anaconda3\\lib\\site-packages\\sklearn\\base.py:450: UserWarning: X does not have valid feature names, but GradientBoostingClassifier was fitted with feature names\n",
      "  warnings.warn(\n",
      "c:\\Users\\omara\\anaconda3\\lib\\site-packages\\sklearn\\base.py:450: UserWarning: X does not have valid feature names, but GradientBoostingClassifier was fitted with feature names\n",
      "  warnings.warn(\n",
      "c:\\Users\\omara\\anaconda3\\lib\\site-packages\\sklearn\\base.py:450: UserWarning: X does not have valid feature names, but GradientBoostingClassifier was fitted with feature names\n",
      "  warnings.warn(\n",
      "c:\\Users\\omara\\anaconda3\\lib\\site-packages\\sklearn\\base.py:450: UserWarning: X does not have valid feature names, but GradientBoostingClassifier was fitted with feature names\n",
      "  warnings.warn(\n",
      "c:\\Users\\omara\\anaconda3\\lib\\site-packages\\sklearn\\base.py:450: UserWarning: X does not have valid feature names, but GradientBoostingClassifier was fitted with feature names\n",
      "  warnings.warn(\n",
      "c:\\Users\\omara\\anaconda3\\lib\\site-packages\\sklearn\\base.py:450: UserWarning: X does not have valid feature names, but GradientBoostingClassifier was fitted with feature names\n",
      "  warnings.warn(\n",
      "c:\\Users\\omara\\anaconda3\\lib\\site-packages\\sklearn\\base.py:450: UserWarning: X does not have valid feature names, but GradientBoostingClassifier was fitted with feature names\n",
      "  warnings.warn(\n",
      "c:\\Users\\omara\\anaconda3\\lib\\site-packages\\sklearn\\base.py:450: UserWarning: X does not have valid feature names, but GradientBoostingClassifier was fitted with feature names\n",
      "  warnings.warn(\n",
      "c:\\Users\\omara\\anaconda3\\lib\\site-packages\\sklearn\\base.py:450: UserWarning: X does not have valid feature names, but GradientBoostingClassifier was fitted with feature names\n",
      "  warnings.warn(\n",
      "c:\\Users\\omara\\anaconda3\\lib\\site-packages\\sklearn\\base.py:450: UserWarning: X does not have valid feature names, but GradientBoostingClassifier was fitted with feature names\n",
      "  warnings.warn(\n",
      "c:\\Users\\omara\\anaconda3\\lib\\site-packages\\sklearn\\base.py:450: UserWarning: X does not have valid feature names, but GradientBoostingClassifier was fitted with feature names\n",
      "  warnings.warn(\n",
      "c:\\Users\\omara\\anaconda3\\lib\\site-packages\\sklearn\\base.py:450: UserWarning: X does not have valid feature names, but GradientBoostingClassifier was fitted with feature names\n",
      "  warnings.warn(\n",
      "c:\\Users\\omara\\anaconda3\\lib\\site-packages\\sklearn\\base.py:450: UserWarning: X does not have valid feature names, but GradientBoostingClassifier was fitted with feature names\n",
      "  warnings.warn(\n",
      "c:\\Users\\omara\\anaconda3\\lib\\site-packages\\sklearn\\base.py:450: UserWarning: X does not have valid feature names, but GradientBoostingClassifier was fitted with feature names\n",
      "  warnings.warn(\n",
      "c:\\Users\\omara\\anaconda3\\lib\\site-packages\\sklearn\\base.py:450: UserWarning: X does not have valid feature names, but GradientBoostingClassifier was fitted with feature names\n",
      "  warnings.warn(\n",
      "c:\\Users\\omara\\anaconda3\\lib\\site-packages\\sklearn\\base.py:450: UserWarning: X does not have valid feature names, but GradientBoostingClassifier was fitted with feature names\n",
      "  warnings.warn(\n",
      "c:\\Users\\omara\\anaconda3\\lib\\site-packages\\sklearn\\base.py:450: UserWarning: X does not have valid feature names, but GradientBoostingClassifier was fitted with feature names\n",
      "  warnings.warn(\n",
      "c:\\Users\\omara\\anaconda3\\lib\\site-packages\\sklearn\\base.py:450: UserWarning: X does not have valid feature names, but GradientBoostingClassifier was fitted with feature names\n",
      "  warnings.warn(\n",
      "c:\\Users\\omara\\anaconda3\\lib\\site-packages\\sklearn\\base.py:450: UserWarning: X does not have valid feature names, but GradientBoostingClassifier was fitted with feature names\n",
      "  warnings.warn(\n",
      "c:\\Users\\omara\\anaconda3\\lib\\site-packages\\sklearn\\base.py:450: UserWarning: X does not have valid feature names, but GradientBoostingClassifier was fitted with feature names\n",
      "  warnings.warn(\n",
      "c:\\Users\\omara\\anaconda3\\lib\\site-packages\\sklearn\\base.py:450: UserWarning: X does not have valid feature names, but GradientBoostingClassifier was fitted with feature names\n",
      "  warnings.warn(\n",
      "c:\\Users\\omara\\anaconda3\\lib\\site-packages\\sklearn\\base.py:450: UserWarning: X does not have valid feature names, but GradientBoostingClassifier was fitted with feature names\n",
      "  warnings.warn(\n",
      "c:\\Users\\omara\\anaconda3\\lib\\site-packages\\sklearn\\base.py:450: UserWarning: X does not have valid feature names, but GradientBoostingClassifier was fitted with feature names\n",
      "  warnings.warn(\n"
     ]
    },
    {
     "name": "stdout",
     "output_type": "stream",
     "text": [
      "\n",
      "\n",
      "---------- Starting Analysis for Group A ----------\n",
      "Group A - Qatar vs. Ecuador: Winner Ecuador with 0.62 probability\n",
      "Group A - Netherlands vs. Senegal: Winner Netherlands with 0.62 probability\n",
      "Group A - Qatar vs. Senegal: Winner Senegal with 0.60 probability\n",
      "Group A - Netherlands vs. Ecuador: Winner Netherlands with 0.73 probability\n",
      "Group A - Ecuador vs. Senegal: Draw\n",
      "Group A - Netherlands vs. Qatar: Winner Netherlands with 0.78 probability\n",
      "\n",
      "\n",
      "Group A advanced: \n",
      "Netherlands -------- 9\n",
      "Senegal -------- 4\n",
      "Ecuador -------- 4\n",
      "Qatar -------- 0\n",
      "\n",
      "\n",
      "---------- Starting Analysis for Group B ----------\n",
      "Group B - England vs. Iran: Winner England with 0.62 probability\n",
      "Group B - United States vs. Wales: Draw\n",
      "Group B - Wales vs. Iran: Draw\n",
      "Group B - England vs. United States: Winner England with 0.61 probability\n",
      "Group B - Wales vs. England: Winner England with 0.64 probability\n",
      "Group B - Iran vs. United States: Winner United States with 0.58 probability\n",
      "\n",
      "\n",
      "Group B advanced: \n",
      "England -------- 9\n",
      "United States -------- 4\n",
      "Wales -------- 2\n",
      "Iran -------- 1\n",
      "\n",
      "\n",
      "---------- Starting Analysis for Group C ----------\n",
      "Group C - Argentina vs. Saudi Arabia: Winner Argentina with 0.79 probability\n",
      "Group C - Mexico vs. Poland: Draw\n",
      "Group C - Poland vs. Saudi Arabia: Winner Poland with 0.70 probability\n",
      "Group C - Argentina vs. Mexico: Winner Argentina with 0.67 probability\n",
      "Group C - Poland vs. Argentina: Winner Argentina with 0.71 probability\n",
      "Group C - Saudi Arabia vs. Mexico: Winner Mexico with 0.71 probability\n",
      "\n",
      "\n",
      "Group C advanced: \n",
      "Argentina -------- 9\n",
      "Poland -------- 4\n",
      "Mexico -------- 4\n",
      "Saudi Arabia -------- 0\n",
      "\n",
      "\n",
      "---------- Starting Analysis for Group D ----------\n",
      "Group D - Denmark vs. Tunisia: Winner Denmark with 0.68 probability\n",
      "Group D - France vs. Australia: Winner France with 0.71 probability\n",
      "Group D - Tunisia vs. Australia: Draw\n"
     ]
    },
    {
     "name": "stderr",
     "output_type": "stream",
     "text": [
      "c:\\Users\\omara\\anaconda3\\lib\\site-packages\\sklearn\\base.py:450: UserWarning: X does not have valid feature names, but GradientBoostingClassifier was fitted with feature names\n",
      "  warnings.warn(\n",
      "c:\\Users\\omara\\anaconda3\\lib\\site-packages\\sklearn\\base.py:450: UserWarning: X does not have valid feature names, but GradientBoostingClassifier was fitted with feature names\n",
      "  warnings.warn(\n",
      "c:\\Users\\omara\\anaconda3\\lib\\site-packages\\sklearn\\base.py:450: UserWarning: X does not have valid feature names, but GradientBoostingClassifier was fitted with feature names\n",
      "  warnings.warn(\n",
      "c:\\Users\\omara\\anaconda3\\lib\\site-packages\\sklearn\\base.py:450: UserWarning: X does not have valid feature names, but GradientBoostingClassifier was fitted with feature names\n",
      "  warnings.warn(\n",
      "c:\\Users\\omara\\anaconda3\\lib\\site-packages\\sklearn\\base.py:450: UserWarning: X does not have valid feature names, but GradientBoostingClassifier was fitted with feature names\n",
      "  warnings.warn(\n",
      "c:\\Users\\omara\\anaconda3\\lib\\site-packages\\sklearn\\base.py:450: UserWarning: X does not have valid feature names, but GradientBoostingClassifier was fitted with feature names\n",
      "  warnings.warn(\n",
      "c:\\Users\\omara\\anaconda3\\lib\\site-packages\\sklearn\\base.py:450: UserWarning: X does not have valid feature names, but GradientBoostingClassifier was fitted with feature names\n",
      "  warnings.warn(\n",
      "c:\\Users\\omara\\anaconda3\\lib\\site-packages\\sklearn\\base.py:450: UserWarning: X does not have valid feature names, but GradientBoostingClassifier was fitted with feature names\n",
      "  warnings.warn(\n",
      "c:\\Users\\omara\\anaconda3\\lib\\site-packages\\sklearn\\base.py:450: UserWarning: X does not have valid feature names, but GradientBoostingClassifier was fitted with feature names\n",
      "  warnings.warn(\n",
      "c:\\Users\\omara\\anaconda3\\lib\\site-packages\\sklearn\\base.py:450: UserWarning: X does not have valid feature names, but GradientBoostingClassifier was fitted with feature names\n",
      "  warnings.warn(\n",
      "c:\\Users\\omara\\anaconda3\\lib\\site-packages\\sklearn\\base.py:450: UserWarning: X does not have valid feature names, but GradientBoostingClassifier was fitted with feature names\n",
      "  warnings.warn(\n",
      "c:\\Users\\omara\\anaconda3\\lib\\site-packages\\sklearn\\base.py:450: UserWarning: X does not have valid feature names, but GradientBoostingClassifier was fitted with feature names\n",
      "  warnings.warn(\n",
      "c:\\Users\\omara\\anaconda3\\lib\\site-packages\\sklearn\\base.py:450: UserWarning: X does not have valid feature names, but GradientBoostingClassifier was fitted with feature names\n",
      "  warnings.warn(\n",
      "c:\\Users\\omara\\anaconda3\\lib\\site-packages\\sklearn\\base.py:450: UserWarning: X does not have valid feature names, but GradientBoostingClassifier was fitted with feature names\n",
      "  warnings.warn(\n",
      "c:\\Users\\omara\\anaconda3\\lib\\site-packages\\sklearn\\base.py:450: UserWarning: X does not have valid feature names, but GradientBoostingClassifier was fitted with feature names\n",
      "  warnings.warn(\n",
      "c:\\Users\\omara\\anaconda3\\lib\\site-packages\\sklearn\\base.py:450: UserWarning: X does not have valid feature names, but GradientBoostingClassifier was fitted with feature names\n",
      "  warnings.warn(\n",
      "c:\\Users\\omara\\anaconda3\\lib\\site-packages\\sklearn\\base.py:450: UserWarning: X does not have valid feature names, but GradientBoostingClassifier was fitted with feature names\n",
      "  warnings.warn(\n",
      "c:\\Users\\omara\\anaconda3\\lib\\site-packages\\sklearn\\base.py:450: UserWarning: X does not have valid feature names, but GradientBoostingClassifier was fitted with feature names\n",
      "  warnings.warn(\n",
      "c:\\Users\\omara\\anaconda3\\lib\\site-packages\\sklearn\\base.py:450: UserWarning: X does not have valid feature names, but GradientBoostingClassifier was fitted with feature names\n",
      "  warnings.warn(\n",
      "c:\\Users\\omara\\anaconda3\\lib\\site-packages\\sklearn\\base.py:450: UserWarning: X does not have valid feature names, but GradientBoostingClassifier was fitted with feature names\n",
      "  warnings.warn(\n",
      "c:\\Users\\omara\\anaconda3\\lib\\site-packages\\sklearn\\base.py:450: UserWarning: X does not have valid feature names, but GradientBoostingClassifier was fitted with feature names\n",
      "  warnings.warn(\n",
      "c:\\Users\\omara\\anaconda3\\lib\\site-packages\\sklearn\\base.py:450: UserWarning: X does not have valid feature names, but GradientBoostingClassifier was fitted with feature names\n",
      "  warnings.warn(\n",
      "c:\\Users\\omara\\anaconda3\\lib\\site-packages\\sklearn\\base.py:450: UserWarning: X does not have valid feature names, but GradientBoostingClassifier was fitted with feature names\n",
      "  warnings.warn(\n",
      "c:\\Users\\omara\\anaconda3\\lib\\site-packages\\sklearn\\base.py:450: UserWarning: X does not have valid feature names, but GradientBoostingClassifier was fitted with feature names\n",
      "  warnings.warn(\n",
      "c:\\Users\\omara\\anaconda3\\lib\\site-packages\\sklearn\\base.py:450: UserWarning: X does not have valid feature names, but GradientBoostingClassifier was fitted with feature names\n",
      "  warnings.warn(\n",
      "c:\\Users\\omara\\anaconda3\\lib\\site-packages\\sklearn\\base.py:450: UserWarning: X does not have valid feature names, but GradientBoostingClassifier was fitted with feature names\n",
      "  warnings.warn(\n",
      "c:\\Users\\omara\\anaconda3\\lib\\site-packages\\sklearn\\base.py:450: UserWarning: X does not have valid feature names, but GradientBoostingClassifier was fitted with feature names\n",
      "  warnings.warn(\n",
      "c:\\Users\\omara\\anaconda3\\lib\\site-packages\\sklearn\\base.py:450: UserWarning: X does not have valid feature names, but GradientBoostingClassifier was fitted with feature names\n",
      "  warnings.warn(\n",
      "c:\\Users\\omara\\anaconda3\\lib\\site-packages\\sklearn\\base.py:450: UserWarning: X does not have valid feature names, but GradientBoostingClassifier was fitted with feature names\n",
      "  warnings.warn(\n",
      "c:\\Users\\omara\\anaconda3\\lib\\site-packages\\sklearn\\base.py:450: UserWarning: X does not have valid feature names, but GradientBoostingClassifier was fitted with feature names\n",
      "  warnings.warn(\n",
      "c:\\Users\\omara\\anaconda3\\lib\\site-packages\\sklearn\\base.py:450: UserWarning: X does not have valid feature names, but GradientBoostingClassifier was fitted with feature names\n",
      "  warnings.warn(\n",
      "c:\\Users\\omara\\anaconda3\\lib\\site-packages\\sklearn\\base.py:450: UserWarning: X does not have valid feature names, but GradientBoostingClassifier was fitted with feature names\n",
      "  warnings.warn(\n",
      "c:\\Users\\omara\\anaconda3\\lib\\site-packages\\sklearn\\base.py:450: UserWarning: X does not have valid feature names, but GradientBoostingClassifier was fitted with feature names\n",
      "  warnings.warn(\n",
      "c:\\Users\\omara\\anaconda3\\lib\\site-packages\\sklearn\\base.py:450: UserWarning: X does not have valid feature names, but GradientBoostingClassifier was fitted with feature names\n",
      "  warnings.warn(\n",
      "c:\\Users\\omara\\anaconda3\\lib\\site-packages\\sklearn\\base.py:450: UserWarning: X does not have valid feature names, but GradientBoostingClassifier was fitted with feature names\n",
      "  warnings.warn(\n",
      "c:\\Users\\omara\\anaconda3\\lib\\site-packages\\sklearn\\base.py:450: UserWarning: X does not have valid feature names, but GradientBoostingClassifier was fitted with feature names\n",
      "  warnings.warn(\n",
      "c:\\Users\\omara\\anaconda3\\lib\\site-packages\\sklearn\\base.py:450: UserWarning: X does not have valid feature names, but GradientBoostingClassifier was fitted with feature names\n",
      "  warnings.warn(\n",
      "c:\\Users\\omara\\anaconda3\\lib\\site-packages\\sklearn\\base.py:450: UserWarning: X does not have valid feature names, but GradientBoostingClassifier was fitted with feature names\n",
      "  warnings.warn(\n"
     ]
    },
    {
     "name": "stdout",
     "output_type": "stream",
     "text": [
      "Group D - France vs. Denmark: Draw\n",
      "Group D - Australia vs. Denmark: Winner Denmark with 0.71 probability\n",
      "Group D - Tunisia vs. France: Winner France with 0.69 probability\n",
      "\n",
      "\n",
      "Group D advanced: \n",
      "France -------- 7\n",
      "Denmark -------- 7\n",
      "Tunisia -------- 1\n",
      "Australia -------- 1\n",
      "\n",
      "\n",
      "---------- Starting Analysis for Group E ----------\n",
      "Group E - Germany vs. Japan: Winner Germany with 0.62 probability\n",
      "Group E - Spain vs. Costa Rica: Winner Spain with 0.76 probability\n",
      "Group E - Japan vs. Costa Rica: Winner Japan with 0.63 probability\n",
      "Group E - Spain vs. Germany: Draw\n",
      "Group E - Japan vs. Spain: Winner Spain with 0.67 probability\n",
      "Group E - Costa Rica vs. Germany: Winner Germany with 0.65 probability\n",
      "\n",
      "\n",
      "Group E advanced: \n",
      "Spain -------- 7\n",
      "Germany -------- 7\n",
      "Japan -------- 3\n",
      "Costa Rica -------- 0\n",
      "\n",
      "\n",
      "---------- Starting Analysis for Group F ----------\n",
      "Group F - Morocco vs. Croatia: Winner Croatia with 0.58 probability\n",
      "Group F - Belgium vs. Canada: Winner Belgium with 0.75 probability\n",
      "Group F - Belgium vs. Morocco: Winner Belgium with 0.67 probability\n",
      "Group F - Croatia vs. Canada: Winner Croatia with 0.64 probability\n",
      "Group F - Croatia vs. Belgium: Winner Belgium with 0.64 probability\n",
      "Group F - Canada vs. Morocco: Draw\n",
      "\n",
      "\n",
      "Group F advanced: \n",
      "Belgium -------- 9\n",
      "Croatia -------- 6\n",
      "Morocco -------- 1\n",
      "Canada -------- 1\n",
      "\n",
      "\n",
      "---------- Starting Analysis for Group G ----------\n",
      "Group G - Switzerland vs. Cameroon: Winner Switzerland with 0.69 probability\n",
      "Group G - Brazil vs. Serbia: Winner Brazil with 0.72 probability\n",
      "Group G - Cameroon vs. Serbia: Winner Serbia with 0.66 probability\n",
      "Group G - Brazil vs. Switzerland: Draw\n",
      "Group G - Serbia vs. Switzerland: Winner Switzerland with 0.57 probability\n",
      "Group G - Cameroon vs. Brazil: Winner Brazil with 0.81 probability\n",
      "\n",
      "\n",
      "Group G advanced: \n",
      "Brazil -------- 7\n",
      "Switzerland -------- 7\n",
      "Serbia -------- 3\n",
      "Cameroon -------- 0\n",
      "\n",
      "\n",
      "---------- Starting Analysis for Group H ----------\n",
      "Group H - Uruguay vs. South Korea: Winner Uruguay with 0.62 probability\n",
      "Group H - Portugal vs. Ghana: Winner Portugal with 0.81 probability\n",
      "Group H - South Korea vs. Ghana: Winner South Korea with 0.76 probability\n",
      "Group H - Portugal vs. Uruguay: Winner Portugal with 0.60 probability\n",
      "Group H - Ghana vs. Uruguay: Winner Uruguay with 0.77 probability\n",
      "Group H - South Korea vs. Portugal: Winner Portugal with 0.67 probability\n",
      "\n",
      "\n",
      "Group H advanced: \n",
      "Portugal -------- 9\n",
      "Uruguay -------- 6\n",
      "South Korea -------- 3\n",
      "Ghana -------- 0\n"
     ]
    },
    {
     "name": "stderr",
     "output_type": "stream",
     "text": [
      "c:\\Users\\omara\\anaconda3\\lib\\site-packages\\sklearn\\base.py:450: UserWarning: X does not have valid feature names, but GradientBoostingClassifier was fitted with feature names\n",
      "  warnings.warn(\n",
      "c:\\Users\\omara\\anaconda3\\lib\\site-packages\\sklearn\\base.py:450: UserWarning: X does not have valid feature names, but GradientBoostingClassifier was fitted with feature names\n",
      "  warnings.warn(\n",
      "c:\\Users\\omara\\anaconda3\\lib\\site-packages\\sklearn\\base.py:450: UserWarning: X does not have valid feature names, but GradientBoostingClassifier was fitted with feature names\n",
      "  warnings.warn(\n",
      "c:\\Users\\omara\\anaconda3\\lib\\site-packages\\sklearn\\base.py:450: UserWarning: X does not have valid feature names, but GradientBoostingClassifier was fitted with feature names\n",
      "  warnings.warn(\n",
      "c:\\Users\\omara\\anaconda3\\lib\\site-packages\\sklearn\\base.py:450: UserWarning: X does not have valid feature names, but GradientBoostingClassifier was fitted with feature names\n",
      "  warnings.warn(\n",
      "c:\\Users\\omara\\anaconda3\\lib\\site-packages\\sklearn\\base.py:450: UserWarning: X does not have valid feature names, but GradientBoostingClassifier was fitted with feature names\n",
      "  warnings.warn(\n",
      "c:\\Users\\omara\\anaconda3\\lib\\site-packages\\sklearn\\base.py:450: UserWarning: X does not have valid feature names, but GradientBoostingClassifier was fitted with feature names\n",
      "  warnings.warn(\n",
      "c:\\Users\\omara\\anaconda3\\lib\\site-packages\\sklearn\\base.py:450: UserWarning: X does not have valid feature names, but GradientBoostingClassifier was fitted with feature names\n",
      "  warnings.warn(\n",
      "c:\\Users\\omara\\anaconda3\\lib\\site-packages\\sklearn\\base.py:450: UserWarning: X does not have valid feature names, but GradientBoostingClassifier was fitted with feature names\n",
      "  warnings.warn(\n",
      "c:\\Users\\omara\\anaconda3\\lib\\site-packages\\sklearn\\base.py:450: UserWarning: X does not have valid feature names, but GradientBoostingClassifier was fitted with feature names\n",
      "  warnings.warn(\n",
      "c:\\Users\\omara\\anaconda3\\lib\\site-packages\\sklearn\\base.py:450: UserWarning: X does not have valid feature names, but GradientBoostingClassifier was fitted with feature names\n",
      "  warnings.warn(\n",
      "c:\\Users\\omara\\anaconda3\\lib\\site-packages\\sklearn\\base.py:450: UserWarning: X does not have valid feature names, but GradientBoostingClassifier was fitted with feature names\n",
      "  warnings.warn(\n",
      "c:\\Users\\omara\\anaconda3\\lib\\site-packages\\sklearn\\base.py:450: UserWarning: X does not have valid feature names, but GradientBoostingClassifier was fitted with feature names\n",
      "  warnings.warn(\n",
      "c:\\Users\\omara\\anaconda3\\lib\\site-packages\\sklearn\\base.py:450: UserWarning: X does not have valid feature names, but GradientBoostingClassifier was fitted with feature names\n",
      "  warnings.warn(\n",
      "c:\\Users\\omara\\anaconda3\\lib\\site-packages\\sklearn\\base.py:450: UserWarning: X does not have valid feature names, but GradientBoostingClassifier was fitted with feature names\n",
      "  warnings.warn(\n",
      "c:\\Users\\omara\\anaconda3\\lib\\site-packages\\sklearn\\base.py:450: UserWarning: X does not have valid feature names, but GradientBoostingClassifier was fitted with feature names\n",
      "  warnings.warn(\n"
     ]
    }
   ],
   "source": [
    "advanced_group = []\n",
    "last_group = \"\"\n",
    "thresh = 0.05\n",
    "\n",
    "for k in tables.keys():\n",
    "    for t in tables[k]:\n",
    "        t[1] = 0\n",
    "        t[2] = []\n",
    "        \n",
    "for teams in matches:\n",
    "    draw = False\n",
    "    team_1 = find_stats(teams[1])\n",
    "    team_2 = find_stats(teams[2])\n",
    "\n",
    "    \n",
    "\n",
    "    features_g1 = find_features(team_1, team_2)\n",
    "    features_g2 = find_features(team_2, team_1)\n",
    "\n",
    "    probs_g1 = gb.predict_proba([features_g1])\n",
    "    probs_g2 = gb.predict_proba([features_g2])\n",
    "    \n",
    "    team_1_prob_g1 = probs_g1[0][0]\n",
    "    team_1_prob_g2 = probs_g2[0][1]\n",
    "    team_2_prob_g1 = probs_g1[0][1]\n",
    "    team_2_prob_g2 = probs_g2[0][0]\n",
    "\n",
    "    team_1_prob = (probs_g1[0][0] + probs_g2[0][1])/2\n",
    "    team_2_prob = (probs_g2[0][0] + probs_g1[0][1])/2\n",
    "    \n",
    "    if ((team_1_prob_g1 > team_2_prob_g1) & (team_2_prob_g2 > team_1_prob_g2)) | ((team_1_prob_g1 < team_2_prob_g1) & (team_2_prob_g2 < team_1_prob_g2)):\n",
    "        draw=True\n",
    "        for i in tables[teams[0]]:\n",
    "            if i[0] == teams[1] or i[0] == teams[2]:\n",
    "                i[1] += 1\n",
    "                \n",
    "    elif team_1_prob > team_2_prob:\n",
    "        winner = teams[1]\n",
    "        winner_proba = team_1_prob\n",
    "        for i in tables[teams[0]]:\n",
    "            if i[0] == teams[1]:\n",
    "                i[1] += 3\n",
    "                \n",
    "    elif team_2_prob > team_1_prob:  \n",
    "        winner = teams[2]\n",
    "        winner_proba = team_2_prob\n",
    "        for i in tables[teams[0]]:\n",
    "            if i[0] == teams[2]:\n",
    "                i[1] += 3\n",
    "    \n",
    "    for i in tables[teams[0]]: #adding criterio de desempate (probs por jogo)\n",
    "            if i[0] == teams[1]:\n",
    "                i[2].append(team_1_prob)\n",
    "            if i[0] == teams[2]:\n",
    "                i[2].append(team_2_prob)\n",
    "\n",
    "    if last_group != teams[0]:\n",
    "        if last_group != \"\":\n",
    "            print(\"\\n\")\n",
    "            print(\"Group %s advanced: \"%(last_group))\n",
    "            \n",
    "            for i in tables[last_group]: #adding crieterio de desempate\n",
    "                i[2] = np.mean(i[2])\n",
    "            \n",
    "            final_points = tables[last_group]\n",
    "            final_table = sorted(final_points, key=itemgetter(1, 2), reverse = True)\n",
    "            advanced_group.append([final_table[0][0], final_table[1][0]])\n",
    "            for i in final_table:\n",
    "                print(\"%s -------- %d\"%(i[0], i[1]))\n",
    "        print(\"\\n\")\n",
    "        print(\"-\"*10+\" Starting Analysis for Group %s \"%(teams[0])+\"-\"*10)\n",
    "        \n",
    "        \n",
    "    if draw == False:\n",
    "        print(\"Group %s - %s vs. %s: Winner %s with %.2f probability\"%(teams[0], teams[1], teams[2], winner, winner_proba))\n",
    "    else:\n",
    "        print(\"Group %s - %s vs. %s: Draw\"%(teams[0], teams[1], teams[2]))\n",
    "    last_group =  teams[0]\n",
    "\n",
    "print(\"\\n\")\n",
    "print(\"Group %s advanced: \"%(last_group))\n",
    "\n",
    "for i in tables[last_group]: #adding crieterio de desempate\n",
    "    i[2] = np.mean(i[2])\n",
    "            \n",
    "final_points = tables[last_group]\n",
    "final_table = sorted(final_points, key=itemgetter(1, 2), reverse = True)\n",
    "advanced_group.append([final_table[0][0], final_table[1][0]])\n",
    "for i in final_table:\n",
    "    print(\"%s -------- %d\"%(i[0], i[1]))"
   ]
  },
  {
   "cell_type": "code",
   "execution_count": 111,
   "metadata": {},
   "outputs": [],
   "source": [
    "advanced = advanced_group"
   ]
  },
  {
   "cell_type": "code",
   "execution_count": 112,
   "metadata": {},
   "outputs": [],
   "source": [
    "playoffs = {\"Round of 16\": [], \"Quarter-Final\": [], \"Semi-Final\": [], \"Final\": []}"
   ]
  },
  {
   "cell_type": "code",
   "execution_count": 113,
   "metadata": {},
   "outputs": [
    {
     "name": "stdout",
     "output_type": "stream",
     "text": [
      "----------\n",
      "Starting simulation of Round of 16\n",
      "----------\n",
      "\n",
      "\n",
      "Netherlands vs. United States: Netherlands advances with prob 0.54\n",
      "Argentina vs. Denmark: Argentina advances with prob 0.59\n",
      "Spain vs. Croatia: Spain advances with prob 0.61\n",
      "Brazil vs. Uruguay: Brazil advances with prob 0.64\n",
      "Senegal vs. England: England advances with prob 0.64\n",
      "Poland vs. France: France advances with prob 0.67\n",
      "Germany vs. Belgium: Belgium advances with prob 0.53\n",
      "Switzerland vs. Portugal: Portugal advances with prob 0.57\n",
      "----------\n",
      "Starting simulation of Quarter-Final\n",
      "----------\n",
      "\n",
      "\n",
      "Netherlands vs. Argentina: Netherlands advances with prob 0.51\n",
      "Spain vs. Brazil: Brazil advances with prob 0.54\n",
      "England vs. France: England advances with prob 0.51\n",
      "Belgium vs. Portugal: Portugal advances with prob 0.52\n",
      "----------\n",
      "Starting simulation of Semi-Final\n",
      "----------\n",
      "\n",
      "\n",
      "Netherlands vs. Brazil: Brazil advances with prob 0.55\n",
      "England vs. Portugal: England advances with prob 0.51\n",
      "----------\n",
      "Starting simulation of Final\n",
      "----------\n",
      "\n",
      "\n",
      "Brazil vs. England: Brazil advances with prob 0.56\n"
     ]
    },
    {
     "name": "stderr",
     "output_type": "stream",
     "text": [
      "c:\\Users\\omara\\anaconda3\\lib\\site-packages\\sklearn\\base.py:450: UserWarning: X does not have valid feature names, but GradientBoostingClassifier was fitted with feature names\n",
      "  warnings.warn(\n",
      "c:\\Users\\omara\\anaconda3\\lib\\site-packages\\sklearn\\base.py:450: UserWarning: X does not have valid feature names, but GradientBoostingClassifier was fitted with feature names\n",
      "  warnings.warn(\n",
      "c:\\Users\\omara\\anaconda3\\lib\\site-packages\\sklearn\\base.py:450: UserWarning: X does not have valid feature names, but GradientBoostingClassifier was fitted with feature names\n",
      "  warnings.warn(\n",
      "c:\\Users\\omara\\anaconda3\\lib\\site-packages\\sklearn\\base.py:450: UserWarning: X does not have valid feature names, but GradientBoostingClassifier was fitted with feature names\n",
      "  warnings.warn(\n",
      "c:\\Users\\omara\\anaconda3\\lib\\site-packages\\sklearn\\base.py:450: UserWarning: X does not have valid feature names, but GradientBoostingClassifier was fitted with feature names\n",
      "  warnings.warn(\n",
      "c:\\Users\\omara\\anaconda3\\lib\\site-packages\\sklearn\\base.py:450: UserWarning: X does not have valid feature names, but GradientBoostingClassifier was fitted with feature names\n",
      "  warnings.warn(\n",
      "c:\\Users\\omara\\anaconda3\\lib\\site-packages\\sklearn\\base.py:450: UserWarning: X does not have valid feature names, but GradientBoostingClassifier was fitted with feature names\n",
      "  warnings.warn(\n",
      "c:\\Users\\omara\\anaconda3\\lib\\site-packages\\sklearn\\base.py:450: UserWarning: X does not have valid feature names, but GradientBoostingClassifier was fitted with feature names\n",
      "  warnings.warn(\n",
      "c:\\Users\\omara\\anaconda3\\lib\\site-packages\\sklearn\\base.py:450: UserWarning: X does not have valid feature names, but GradientBoostingClassifier was fitted with feature names\n",
      "  warnings.warn(\n",
      "c:\\Users\\omara\\anaconda3\\lib\\site-packages\\sklearn\\base.py:450: UserWarning: X does not have valid feature names, but GradientBoostingClassifier was fitted with feature names\n",
      "  warnings.warn(\n",
      "c:\\Users\\omara\\anaconda3\\lib\\site-packages\\sklearn\\base.py:450: UserWarning: X does not have valid feature names, but GradientBoostingClassifier was fitted with feature names\n",
      "  warnings.warn(\n",
      "c:\\Users\\omara\\anaconda3\\lib\\site-packages\\sklearn\\base.py:450: UserWarning: X does not have valid feature names, but GradientBoostingClassifier was fitted with feature names\n",
      "  warnings.warn(\n",
      "c:\\Users\\omara\\anaconda3\\lib\\site-packages\\sklearn\\base.py:450: UserWarning: X does not have valid feature names, but GradientBoostingClassifier was fitted with feature names\n",
      "  warnings.warn(\n",
      "c:\\Users\\omara\\anaconda3\\lib\\site-packages\\sklearn\\base.py:450: UserWarning: X does not have valid feature names, but GradientBoostingClassifier was fitted with feature names\n",
      "  warnings.warn(\n",
      "c:\\Users\\omara\\anaconda3\\lib\\site-packages\\sklearn\\base.py:450: UserWarning: X does not have valid feature names, but GradientBoostingClassifier was fitted with feature names\n",
      "  warnings.warn(\n",
      "c:\\Users\\omara\\anaconda3\\lib\\site-packages\\sklearn\\base.py:450: UserWarning: X does not have valid feature names, but GradientBoostingClassifier was fitted with feature names\n",
      "  warnings.warn(\n",
      "c:\\Users\\omara\\anaconda3\\lib\\site-packages\\sklearn\\base.py:450: UserWarning: X does not have valid feature names, but GradientBoostingClassifier was fitted with feature names\n",
      "  warnings.warn(\n",
      "c:\\Users\\omara\\anaconda3\\lib\\site-packages\\sklearn\\base.py:450: UserWarning: X does not have valid feature names, but GradientBoostingClassifier was fitted with feature names\n",
      "  warnings.warn(\n",
      "c:\\Users\\omara\\anaconda3\\lib\\site-packages\\sklearn\\base.py:450: UserWarning: X does not have valid feature names, but GradientBoostingClassifier was fitted with feature names\n",
      "  warnings.warn(\n",
      "c:\\Users\\omara\\anaconda3\\lib\\site-packages\\sklearn\\base.py:450: UserWarning: X does not have valid feature names, but GradientBoostingClassifier was fitted with feature names\n",
      "  warnings.warn(\n",
      "c:\\Users\\omara\\anaconda3\\lib\\site-packages\\sklearn\\base.py:450: UserWarning: X does not have valid feature names, but GradientBoostingClassifier was fitted with feature names\n",
      "  warnings.warn(\n",
      "c:\\Users\\omara\\anaconda3\\lib\\site-packages\\sklearn\\base.py:450: UserWarning: X does not have valid feature names, but GradientBoostingClassifier was fitted with feature names\n",
      "  warnings.warn(\n",
      "c:\\Users\\omara\\anaconda3\\lib\\site-packages\\sklearn\\base.py:450: UserWarning: X does not have valid feature names, but GradientBoostingClassifier was fitted with feature names\n",
      "  warnings.warn(\n",
      "c:\\Users\\omara\\anaconda3\\lib\\site-packages\\sklearn\\base.py:450: UserWarning: X does not have valid feature names, but GradientBoostingClassifier was fitted with feature names\n",
      "  warnings.warn(\n",
      "c:\\Users\\omara\\anaconda3\\lib\\site-packages\\sklearn\\base.py:450: UserWarning: X does not have valid feature names, but GradientBoostingClassifier was fitted with feature names\n",
      "  warnings.warn(\n",
      "c:\\Users\\omara\\anaconda3\\lib\\site-packages\\sklearn\\base.py:450: UserWarning: X does not have valid feature names, but GradientBoostingClassifier was fitted with feature names\n",
      "  warnings.warn(\n",
      "c:\\Users\\omara\\anaconda3\\lib\\site-packages\\sklearn\\base.py:450: UserWarning: X does not have valid feature names, but GradientBoostingClassifier was fitted with feature names\n",
      "  warnings.warn(\n",
      "c:\\Users\\omara\\anaconda3\\lib\\site-packages\\sklearn\\base.py:450: UserWarning: X does not have valid feature names, but GradientBoostingClassifier was fitted with feature names\n",
      "  warnings.warn(\n",
      "c:\\Users\\omara\\anaconda3\\lib\\site-packages\\sklearn\\base.py:450: UserWarning: X does not have valid feature names, but GradientBoostingClassifier was fitted with feature names\n",
      "  warnings.warn(\n",
      "c:\\Users\\omara\\anaconda3\\lib\\site-packages\\sklearn\\base.py:450: UserWarning: X does not have valid feature names, but GradientBoostingClassifier was fitted with feature names\n",
      "  warnings.warn(\n"
     ]
    }
   ],
   "source": [
    "for p in playoffs.keys():\n",
    "    playoffs[p] = []\n",
    "\n",
    "actual_round = \"\"\n",
    "next_rounds = []\n",
    "\n",
    "for p in playoffs.keys():\n",
    "    if p == \"Round of 16\":\n",
    "        control = []\n",
    "        for a in range(0, len(advanced*2), 1):\n",
    "            if a < len(advanced):\n",
    "                if a % 2 == 0:\n",
    "                    control.append((advanced*2)[a][0])\n",
    "                else:\n",
    "                    control.append((advanced*2)[a][1])\n",
    "            else:\n",
    "                if a % 2 == 0:\n",
    "                    control.append((advanced*2)[a][1])\n",
    "                else:\n",
    "                    control.append((advanced*2)[a][0])\n",
    "\n",
    "        playoffs[p] = [[control[c], control[c+1]] for c in range(0, len(control)-1, 1) if c%2 == 0]\n",
    "        \n",
    "        for i in range(0, len(playoffs[p]), 1):\n",
    "            game = playoffs[p][i]\n",
    "            \n",
    "            home = game[0]\n",
    "            away = game[1]\n",
    "            team_1 = find_stats(home)\n",
    "            team_2 = find_stats(away)\n",
    "\n",
    "            features_g1 = find_features(team_1, team_2)\n",
    "            features_g2 = find_features(team_2, team_1)\n",
    "            \n",
    "            probs_g1 = gb.predict_proba([features_g1])\n",
    "            probs_g2 = gb.predict_proba([features_g2])\n",
    "            \n",
    "            team_1_prob = (probs_g1[0][0] + probs_g2[0][1])/2\n",
    "            team_2_prob = (probs_g2[0][0] + probs_g1[0][1])/2\n",
    "            \n",
    "            if actual_round != p:\n",
    "                print(\"-\"*10)\n",
    "                print(\"Starting simulation of %s\"%(p))\n",
    "                print(\"-\"*10)\n",
    "                print(\"\\n\")\n",
    "            \n",
    "            if team_1_prob < team_2_prob:\n",
    "                print(\"%s vs. %s: %s advances with prob %.2f\"%(home, away, away, team_2_prob))\n",
    "                next_rounds.append(away)\n",
    "            else:\n",
    "                print(\"%s vs. %s: %s advances with prob %.2f\"%(home, away, home, team_1_prob))\n",
    "                next_rounds.append(home)\n",
    "            \n",
    "            game.append([team_1_prob, team_2_prob])\n",
    "            playoffs[p][i] = game\n",
    "            actual_round = p\n",
    "        \n",
    "    else:\n",
    "        playoffs[p] = [[next_rounds[c], next_rounds[c+1]] for c in range(0, len(next_rounds)-1, 1) if c%2 == 0]\n",
    "        next_rounds = []\n",
    "        for i in range(0, len(playoffs[p])):\n",
    "            game = playoffs[p][i]\n",
    "            home = game[0]\n",
    "            away = game[1]\n",
    "            team_1 = find_stats(home)\n",
    "            team_2 = find_stats(away)\n",
    "            \n",
    "            features_g1 = find_features(team_1, team_2)\n",
    "            features_g2 = find_features(team_2, team_1)\n",
    "            \n",
    "            probs_g1 = gb.predict_proba([features_g1])\n",
    "            probs_g2 = gb.predict_proba([features_g2])\n",
    "            \n",
    "            team_1_prob = (probs_g1[0][0] + probs_g2[0][1])/2\n",
    "            team_2_prob = (probs_g2[0][0] + probs_g1[0][1])/2\n",
    "            \n",
    "            if actual_round != p:\n",
    "                print(\"-\"*10)\n",
    "                print(\"Starting simulation of %s\"%(p))\n",
    "                print(\"-\"*10)\n",
    "                print(\"\\n\")\n",
    "            \n",
    "            if team_1_prob < team_2_prob:\n",
    "                print(\"%s vs. %s: %s advances with prob %.2f\"%(home, away, away, team_2_prob))\n",
    "                next_rounds.append(away)\n",
    "            else:\n",
    "                print(\"%s vs. %s: %s advances with prob %.2f\"%(home, away, home, team_1_prob))\n",
    "                next_rounds.append(home)\n",
    "            game.append([team_1_prob, team_2_prob])\n",
    "            playoffs[p][i] = game\n",
    "            actual_round = p\n",
    "            "
   ]
  },
  {
   "cell_type": "markdown",
   "metadata": {},
   "source": [
    "============================================================================================================================"
   ]
  },
  {
   "cell_type": "markdown",
   "metadata": {},
   "source": [
    "# The Winner is Brazil!!!!!!"
   ]
  }
 ],
 "metadata": {
  "kernelspec": {
   "display_name": "Python 3.9.7 ('base')",
   "language": "python",
   "name": "python3"
  },
  "language_info": {
   "codemirror_mode": {
    "name": "ipython",
    "version": 3
   },
   "file_extension": ".py",
   "mimetype": "text/x-python",
   "name": "python",
   "nbconvert_exporter": "python",
   "pygments_lexer": "ipython3",
   "version": "3.9.7"
  },
  "orig_nbformat": 4,
  "vscode": {
   "interpreter": {
    "hash": "49659c30bc10c494661e5f919f36065d90e43aefa10c7ad8353f168a68690c6a"
   }
  }
 },
 "nbformat": 4,
 "nbformat_minor": 2
}
